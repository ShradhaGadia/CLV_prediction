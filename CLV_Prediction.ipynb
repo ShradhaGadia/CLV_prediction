{
 "cells": [
  {
   "cell_type": "markdown",
   "id": "c62ab80a-6ebc-4e25-a98a-acb063021edf",
   "metadata": {},
   "source": [
    "**Note:** This project was developed and tested using **Python 3.x** and **NumPy version 1.26** in a **virtual environment (venv)** because some libraries used were incompatible with the latest NumPy version at the time. Please ensure compatible versions are installed to avoid unexpected errors during execution.\n"
   ]
  },
  {
   "cell_type": "code",
   "execution_count": 1,
   "id": "8ebbb6b6-5f63-4427-a743-9ec43906be22",
   "metadata": {},
   "outputs": [],
   "source": [
    "import pandas as pd\n",
    "import numpy as np\n",
    "import matplotlib.pyplot as plt\n",
    "import seaborn as sns"
   ]
  },
  {
   "cell_type": "markdown",
   "id": "ce5be908-4b16-44fe-bcd1-ca32f2e07eb5",
   "metadata": {},
   "source": [
    "<h2>Loading data</h2>"
   ]
  },
  {
   "cell_type": "code",
   "execution_count": 2,
   "id": "e26180bd-2b3a-4a1d-af02-80488d9965e9",
   "metadata": {},
   "outputs": [
    {
     "data": {
      "text/html": [
       "<div>\n",
       "<style scoped>\n",
       "    .dataframe tbody tr th:only-of-type {\n",
       "        vertical-align: middle;\n",
       "    }\n",
       "\n",
       "    .dataframe tbody tr th {\n",
       "        vertical-align: top;\n",
       "    }\n",
       "\n",
       "    .dataframe thead th {\n",
       "        text-align: right;\n",
       "    }\n",
       "</style>\n",
       "<table border=\"1\" class=\"dataframe\">\n",
       "  <thead>\n",
       "    <tr style=\"text-align: right;\">\n",
       "      <th></th>\n",
       "      <th>Invoice</th>\n",
       "      <th>StockCode</th>\n",
       "      <th>Description</th>\n",
       "      <th>Quantity</th>\n",
       "      <th>InvoiceDate</th>\n",
       "      <th>Price</th>\n",
       "      <th>Customer ID</th>\n",
       "      <th>Country</th>\n",
       "    </tr>\n",
       "  </thead>\n",
       "  <tbody>\n",
       "    <tr>\n",
       "      <th>525458</th>\n",
       "      <td>538171</td>\n",
       "      <td>22751</td>\n",
       "      <td>FELTCRAFT PRINCESS OLIVIA DOLL</td>\n",
       "      <td>1.0</td>\n",
       "      <td>2010-12-09 20:01:00</td>\n",
       "      <td>3.75</td>\n",
       "      <td>17530.0</td>\n",
       "      <td>United Kingdom</td>\n",
       "    </tr>\n",
       "    <tr>\n",
       "      <th>525459</th>\n",
       "      <td>538171</td>\n",
       "      <td>20970</td>\n",
       "      <td>PINK FLORAL FELTCRAFT SHOULDER BAG</td>\n",
       "      <td>2.0</td>\n",
       "      <td>2010-12-09 20:01:00</td>\n",
       "      <td>3.75</td>\n",
       "      <td>17530.0</td>\n",
       "      <td>United Kingdom</td>\n",
       "    </tr>\n",
       "    <tr>\n",
       "      <th>525460</th>\n",
       "      <td>538171</td>\n",
       "      <td>21931</td>\n",
       "      <td>JUMBO STORAGE BAG SUKI</td>\n",
       "      <td>2.0</td>\n",
       "      <td>2010-12-09 20:01:00</td>\n",
       "      <td>1.95</td>\n",
       "      <td>17530.0</td>\n",
       "      <td>United Kingdom</td>\n",
       "    </tr>\n",
       "    <tr>\n",
       "      <th>525461</th>\n",
       "      <td>NaN</td>\n",
       "      <td>NaN</td>\n",
       "      <td>NaN</td>\n",
       "      <td>NaN</td>\n",
       "      <td>NaT</td>\n",
       "      <td>NaN</td>\n",
       "      <td>NaN</td>\n",
       "      <td>NaN</td>\n",
       "    </tr>\n",
       "    <tr>\n",
       "      <th>525462</th>\n",
       "      <td>NaN</td>\n",
       "      <td>NaN</td>\n",
       "      <td>NaN</td>\n",
       "      <td>NaN</td>\n",
       "      <td>2010-12-01 08:26:00</td>\n",
       "      <td>NaN</td>\n",
       "      <td>NaN</td>\n",
       "      <td>NaN</td>\n",
       "    </tr>\n",
       "  </tbody>\n",
       "</table>\n",
       "</div>"
      ],
      "text/plain": [
       "       Invoice StockCode                         Description  Quantity  \\\n",
       "525458  538171     22751      FELTCRAFT PRINCESS OLIVIA DOLL       1.0   \n",
       "525459  538171     20970  PINK FLORAL FELTCRAFT SHOULDER BAG       2.0   \n",
       "525460  538171     21931              JUMBO STORAGE BAG SUKI       2.0   \n",
       "525461     NaN       NaN                                 NaN       NaN   \n",
       "525462     NaN       NaN                                 NaN       NaN   \n",
       "\n",
       "               InvoiceDate  Price  Customer ID         Country  \n",
       "525458 2010-12-09 20:01:00   3.75      17530.0  United Kingdom  \n",
       "525459 2010-12-09 20:01:00   3.75      17530.0  United Kingdom  \n",
       "525460 2010-12-09 20:01:00   1.95      17530.0  United Kingdom  \n",
       "525461                 NaT    NaN          NaN             NaN  \n",
       "525462 2010-12-01 08:26:00    NaN          NaN             NaN  "
      ]
     },
     "execution_count": 2,
     "metadata": {},
     "output_type": "execute_result"
    }
   ],
   "source": [
    "df=pd.read_excel('ct_dataset.xlsx',sheet_name='Sheet1')\n",
    "df.tail()"
   ]
  },
  {
   "cell_type": "code",
   "execution_count": 3,
   "id": "bc6eb7f9-59e3-4161-84ef-acb44c4f9a85",
   "metadata": {},
   "outputs": [],
   "source": [
    "df_future=pd.read_excel('ct_dataset.xlsx',sheet_name='Sheet2')"
   ]
  },
  {
   "cell_type": "code",
   "execution_count": 4,
   "id": "9fa8e20e-c5db-4232-9167-54d85259d2a3",
   "metadata": {},
   "outputs": [
    {
     "data": {
      "text/html": [
       "<div>\n",
       "<style scoped>\n",
       "    .dataframe tbody tr th:only-of-type {\n",
       "        vertical-align: middle;\n",
       "    }\n",
       "\n",
       "    .dataframe tbody tr th {\n",
       "        vertical-align: top;\n",
       "    }\n",
       "\n",
       "    .dataframe thead th {\n",
       "        text-align: right;\n",
       "    }\n",
       "</style>\n",
       "<table border=\"1\" class=\"dataframe\">\n",
       "  <thead>\n",
       "    <tr style=\"text-align: right;\">\n",
       "      <th></th>\n",
       "      <th>Invoice</th>\n",
       "      <th>StockCode</th>\n",
       "      <th>Description</th>\n",
       "      <th>Quantity</th>\n",
       "      <th>InvoiceDate</th>\n",
       "      <th>Price</th>\n",
       "      <th>Customer ID</th>\n",
       "      <th>Country</th>\n",
       "    </tr>\n",
       "  </thead>\n",
       "  <tbody>\n",
       "    <tr>\n",
       "      <th>0</th>\n",
       "      <td>538172</td>\n",
       "      <td>21562</td>\n",
       "      <td>HAWAIIAN GRASS SKIRT</td>\n",
       "      <td>12</td>\n",
       "      <td>2010-12-10 09:33:00</td>\n",
       "      <td>1.25</td>\n",
       "      <td>15805.0</td>\n",
       "      <td>United Kingdom</td>\n",
       "    </tr>\n",
       "    <tr>\n",
       "      <th>1</th>\n",
       "      <td>538172</td>\n",
       "      <td>79321</td>\n",
       "      <td>CHILLI LIGHTS</td>\n",
       "      <td>8</td>\n",
       "      <td>2010-12-10 09:33:00</td>\n",
       "      <td>4.95</td>\n",
       "      <td>15805.0</td>\n",
       "      <td>United Kingdom</td>\n",
       "    </tr>\n",
       "    <tr>\n",
       "      <th>2</th>\n",
       "      <td>538172</td>\n",
       "      <td>22041</td>\n",
       "      <td>RECORD FRAME 7\" SINGLE SIZE</td>\n",
       "      <td>12</td>\n",
       "      <td>2010-12-10 09:33:00</td>\n",
       "      <td>2.55</td>\n",
       "      <td>15805.0</td>\n",
       "      <td>United Kingdom</td>\n",
       "    </tr>\n",
       "    <tr>\n",
       "      <th>3</th>\n",
       "      <td>538172</td>\n",
       "      <td>84558A</td>\n",
       "      <td>3D DOG PICTURE PLAYING CARDS</td>\n",
       "      <td>12</td>\n",
       "      <td>2010-12-10 09:33:00</td>\n",
       "      <td>2.95</td>\n",
       "      <td>15805.0</td>\n",
       "      <td>United Kingdom</td>\n",
       "    </tr>\n",
       "    <tr>\n",
       "      <th>4</th>\n",
       "      <td>538172</td>\n",
       "      <td>22952</td>\n",
       "      <td>60 CAKE CASES VINTAGE CHRISTMAS</td>\n",
       "      <td>24</td>\n",
       "      <td>2010-12-10 09:33:00</td>\n",
       "      <td>0.55</td>\n",
       "      <td>15805.0</td>\n",
       "      <td>United Kingdom</td>\n",
       "    </tr>\n",
       "  </tbody>\n",
       "</table>\n",
       "</div>"
      ],
      "text/plain": [
       "  Invoice StockCode                      Description  Quantity  \\\n",
       "0  538172     21562            HAWAIIAN GRASS SKIRT         12   \n",
       "1  538172     79321                    CHILLI LIGHTS         8   \n",
       "2  538172     22041     RECORD FRAME 7\" SINGLE SIZE         12   \n",
       "3  538172    84558A     3D DOG PICTURE PLAYING CARDS        12   \n",
       "4  538172     22952  60 CAKE CASES VINTAGE CHRISTMAS        24   \n",
       "\n",
       "          InvoiceDate  Price  Customer ID         Country  \n",
       "0 2010-12-10 09:33:00   1.25      15805.0  United Kingdom  \n",
       "1 2010-12-10 09:33:00   4.95      15805.0  United Kingdom  \n",
       "2 2010-12-10 09:33:00   2.55      15805.0  United Kingdom  \n",
       "3 2010-12-10 09:33:00   2.95      15805.0  United Kingdom  \n",
       "4 2010-12-10 09:33:00   0.55      15805.0  United Kingdom  "
      ]
     },
     "execution_count": 4,
     "metadata": {},
     "output_type": "execute_result"
    }
   ],
   "source": [
    "df_future.head()"
   ]
  },
  {
   "cell_type": "markdown",
   "id": "ab7f5fe1-8bdd-4229-bcb0-467ca1a59d1c",
   "metadata": {},
   "source": [
    "Loaded two datasets:\n",
    "- **Sheet1:** Past transactions for feature engineering.\n",
    "- **Sheet2:** Future transactions used to calculate the actual CLV (Future_Monetary) as the prediction target."
   ]
  },
  {
   "cell_type": "markdown",
   "id": "807a79e6-65f3-4011-88ca-6e3915e4793f",
   "metadata": {},
   "source": [
    "<h2>Exploratory Data Analysis</h2>"
   ]
  },
  {
   "cell_type": "code",
   "execution_count": 5,
   "id": "214c6a5b-0114-429a-9113-65d210ae27b8",
   "metadata": {},
   "outputs": [
    {
     "data": {
      "text/plain": [
       "(525463, 8)"
      ]
     },
     "execution_count": 5,
     "metadata": {},
     "output_type": "execute_result"
    }
   ],
   "source": [
    "df.shape"
   ]
  },
  {
   "cell_type": "code",
   "execution_count": 6,
   "id": "200ffad0-7a63-4fb2-823c-d2e230bc2ca5",
   "metadata": {},
   "outputs": [
    {
     "data": {
      "text/plain": [
       "(519387, 8)"
      ]
     },
     "execution_count": 6,
     "metadata": {},
     "output_type": "execute_result"
    }
   ],
   "source": [
    "df_future.shape"
   ]
  },
  {
   "cell_type": "code",
   "execution_count": 7,
   "id": "d7e9f17f-a3fe-41e7-9c22-6c8ebb907117",
   "metadata": {
    "scrolled": true
   },
   "outputs": [
    {
     "data": {
      "text/plain": [
       "Index(['Invoice', 'StockCode', 'Description', 'Quantity', 'InvoiceDate',\n",
       "       'Price', 'Customer ID', 'Country'],\n",
       "      dtype='object')"
      ]
     },
     "execution_count": 7,
     "metadata": {},
     "output_type": "execute_result"
    }
   ],
   "source": [
    "df.columns"
   ]
  },
  {
   "cell_type": "code",
   "execution_count": 8,
   "id": "0bc7f562-9237-47cc-87e3-f0a0e0b389fb",
   "metadata": {},
   "outputs": [
    {
     "name": "stdout",
     "output_type": "stream",
     "text": [
      "<class 'pandas.core.frame.DataFrame'>\n",
      "RangeIndex: 525463 entries, 0 to 525462\n",
      "Data columns (total 8 columns):\n",
      " #   Column       Non-Null Count   Dtype         \n",
      "---  ------       --------------   -----         \n",
      " 0   Invoice      525461 non-null  object        \n",
      " 1   StockCode    525461 non-null  object        \n",
      " 2   Description  522533 non-null  object        \n",
      " 3   Quantity     525461 non-null  float64       \n",
      " 4   InvoiceDate  525462 non-null  datetime64[ns]\n",
      " 5   Price        525461 non-null  float64       \n",
      " 6   Customer ID  417534 non-null  float64       \n",
      " 7   Country      525461 non-null  object        \n",
      "dtypes: datetime64[ns](1), float64(3), object(4)\n",
      "memory usage: 32.1+ MB\n"
     ]
    }
   ],
   "source": [
    "df.info()"
   ]
  },
  {
   "cell_type": "code",
   "execution_count": 9,
   "id": "06bad3e0-7358-4768-8245-7ee68e372d5d",
   "metadata": {},
   "outputs": [
    {
     "data": {
      "text/html": [
       "<div>\n",
       "<style scoped>\n",
       "    .dataframe tbody tr th:only-of-type {\n",
       "        vertical-align: middle;\n",
       "    }\n",
       "\n",
       "    .dataframe tbody tr th {\n",
       "        vertical-align: top;\n",
       "    }\n",
       "\n",
       "    .dataframe thead th {\n",
       "        text-align: right;\n",
       "    }\n",
       "</style>\n",
       "<table border=\"1\" class=\"dataframe\">\n",
       "  <thead>\n",
       "    <tr style=\"text-align: right;\">\n",
       "      <th></th>\n",
       "      <th>Quantity</th>\n",
       "      <th>InvoiceDate</th>\n",
       "      <th>Price</th>\n",
       "      <th>Customer ID</th>\n",
       "    </tr>\n",
       "  </thead>\n",
       "  <tbody>\n",
       "    <tr>\n",
       "      <th>count</th>\n",
       "      <td>525461.000000</td>\n",
       "      <td>525462</td>\n",
       "      <td>525461.000000</td>\n",
       "      <td>417534.000000</td>\n",
       "    </tr>\n",
       "    <tr>\n",
       "      <th>mean</th>\n",
       "      <td>10.337667</td>\n",
       "      <td>2010-06-28 11:38:02.473708800</td>\n",
       "      <td>4.688834</td>\n",
       "      <td>15360.645478</td>\n",
       "    </tr>\n",
       "    <tr>\n",
       "      <th>min</th>\n",
       "      <td>-9600.000000</td>\n",
       "      <td>2009-12-01 07:45:00</td>\n",
       "      <td>-53594.360000</td>\n",
       "      <td>12346.000000</td>\n",
       "    </tr>\n",
       "    <tr>\n",
       "      <th>25%</th>\n",
       "      <td>1.000000</td>\n",
       "      <td>2010-03-21 12:20:00</td>\n",
       "      <td>1.250000</td>\n",
       "      <td>13983.000000</td>\n",
       "    </tr>\n",
       "    <tr>\n",
       "      <th>50%</th>\n",
       "      <td>3.000000</td>\n",
       "      <td>2010-07-06 09:51:00</td>\n",
       "      <td>2.100000</td>\n",
       "      <td>15311.000000</td>\n",
       "    </tr>\n",
       "    <tr>\n",
       "      <th>75%</th>\n",
       "      <td>10.000000</td>\n",
       "      <td>2010-10-15 12:45:00</td>\n",
       "      <td>4.210000</td>\n",
       "      <td>16799.000000</td>\n",
       "    </tr>\n",
       "    <tr>\n",
       "      <th>max</th>\n",
       "      <td>19152.000000</td>\n",
       "      <td>2010-12-09 20:01:00</td>\n",
       "      <td>25111.090000</td>\n",
       "      <td>18287.000000</td>\n",
       "    </tr>\n",
       "    <tr>\n",
       "      <th>std</th>\n",
       "      <td>107.424110</td>\n",
       "      <td>NaN</td>\n",
       "      <td>146.126914</td>\n",
       "      <td>1680.811316</td>\n",
       "    </tr>\n",
       "  </tbody>\n",
       "</table>\n",
       "</div>"
      ],
      "text/plain": [
       "            Quantity                    InvoiceDate          Price  \\\n",
       "count  525461.000000                         525462  525461.000000   \n",
       "mean       10.337667  2010-06-28 11:38:02.473708800       4.688834   \n",
       "min     -9600.000000            2009-12-01 07:45:00  -53594.360000   \n",
       "25%         1.000000            2010-03-21 12:20:00       1.250000   \n",
       "50%         3.000000            2010-07-06 09:51:00       2.100000   \n",
       "75%        10.000000            2010-10-15 12:45:00       4.210000   \n",
       "max     19152.000000            2010-12-09 20:01:00   25111.090000   \n",
       "std       107.424110                            NaN     146.126914   \n",
       "\n",
       "         Customer ID  \n",
       "count  417534.000000  \n",
       "mean    15360.645478  \n",
       "min     12346.000000  \n",
       "25%     13983.000000  \n",
       "50%     15311.000000  \n",
       "75%     16799.000000  \n",
       "max     18287.000000  \n",
       "std      1680.811316  "
      ]
     },
     "execution_count": 9,
     "metadata": {},
     "output_type": "execute_result"
    }
   ],
   "source": [
    "df.describe()"
   ]
  },
  {
   "cell_type": "markdown",
   "id": "95bad92d-e537-4ee8-8693-c0c3d46f8d73",
   "metadata": {},
   "source": [
    "<p>The dataset contains negative values in the Quantity column, which represent returns, as indicated by the corresponding Invoice values starting with 'C' as mentioned in the dataset description. For the Price column we will further inquire it.</p>"
   ]
  },
  {
   "cell_type": "code",
   "execution_count": 10,
   "id": "d5ab0705-dfe5-4581-a24c-19ea762af40a",
   "metadata": {},
   "outputs": [
    {
     "data": {
      "text/plain": [
       "Price\n",
       "False    525460\n",
       "True          3\n",
       "Name: count, dtype: int64"
      ]
     },
     "execution_count": 10,
     "metadata": {},
     "output_type": "execute_result"
    }
   ],
   "source": [
    "(df['Price']<0).value_counts()"
   ]
  },
  {
   "cell_type": "code",
   "execution_count": 11,
   "id": "6cc48631-7a1b-4135-8f3b-f58f5789a803",
   "metadata": {},
   "outputs": [
    {
     "data": {
      "text/plain": [
       "Quantity\n",
       "False    513137\n",
       "True      12326\n",
       "Name: count, dtype: int64"
      ]
     },
     "execution_count": 11,
     "metadata": {},
     "output_type": "execute_result"
    }
   ],
   "source": [
    "(df['Quantity']<0).value_counts()"
   ]
  },
  {
   "cell_type": "code",
   "execution_count": 12,
   "id": "4f99634f-9599-49ae-b9eb-0dfc2778fb33",
   "metadata": {},
   "outputs": [
    {
     "data": {
      "text/html": [
       "<div>\n",
       "<style scoped>\n",
       "    .dataframe tbody tr th:only-of-type {\n",
       "        vertical-align: middle;\n",
       "    }\n",
       "\n",
       "    .dataframe tbody tr th {\n",
       "        vertical-align: top;\n",
       "    }\n",
       "\n",
       "    .dataframe thead th {\n",
       "        text-align: right;\n",
       "    }\n",
       "</style>\n",
       "<table border=\"1\" class=\"dataframe\">\n",
       "  <thead>\n",
       "    <tr style=\"text-align: right;\">\n",
       "      <th></th>\n",
       "      <th>Invoice</th>\n",
       "      <th>StockCode</th>\n",
       "      <th>Description</th>\n",
       "      <th>Quantity</th>\n",
       "      <th>InvoiceDate</th>\n",
       "      <th>Price</th>\n",
       "      <th>Customer ID</th>\n",
       "      <th>Country</th>\n",
       "    </tr>\n",
       "  </thead>\n",
       "  <tbody>\n",
       "    <tr>\n",
       "      <th>178</th>\n",
       "      <td>C489449</td>\n",
       "      <td>22087</td>\n",
       "      <td>PAPER BUNTING WHITE LACE</td>\n",
       "      <td>-12.0</td>\n",
       "      <td>2009-12-01 10:33:00</td>\n",
       "      <td>2.95</td>\n",
       "      <td>16321.0</td>\n",
       "      <td>Australia</td>\n",
       "    </tr>\n",
       "    <tr>\n",
       "      <th>179</th>\n",
       "      <td>C489449</td>\n",
       "      <td>85206A</td>\n",
       "      <td>CREAM FELT EASTER EGG BASKET</td>\n",
       "      <td>-6.0</td>\n",
       "      <td>2009-12-01 10:33:00</td>\n",
       "      <td>1.65</td>\n",
       "      <td>16321.0</td>\n",
       "      <td>Australia</td>\n",
       "    </tr>\n",
       "    <tr>\n",
       "      <th>180</th>\n",
       "      <td>C489449</td>\n",
       "      <td>21895</td>\n",
       "      <td>POTTING SHED SOW 'N' GROW SET</td>\n",
       "      <td>-4.0</td>\n",
       "      <td>2009-12-01 10:33:00</td>\n",
       "      <td>4.25</td>\n",
       "      <td>16321.0</td>\n",
       "      <td>Australia</td>\n",
       "    </tr>\n",
       "    <tr>\n",
       "      <th>181</th>\n",
       "      <td>C489449</td>\n",
       "      <td>21896</td>\n",
       "      <td>POTTING SHED TWINE</td>\n",
       "      <td>-6.0</td>\n",
       "      <td>2009-12-01 10:33:00</td>\n",
       "      <td>2.10</td>\n",
       "      <td>16321.0</td>\n",
       "      <td>Australia</td>\n",
       "    </tr>\n",
       "    <tr>\n",
       "      <th>182</th>\n",
       "      <td>C489449</td>\n",
       "      <td>22083</td>\n",
       "      <td>PAPER CHAIN KIT RETRO SPOT</td>\n",
       "      <td>-12.0</td>\n",
       "      <td>2009-12-01 10:33:00</td>\n",
       "      <td>2.95</td>\n",
       "      <td>16321.0</td>\n",
       "      <td>Australia</td>\n",
       "    </tr>\n",
       "  </tbody>\n",
       "</table>\n",
       "</div>"
      ],
      "text/plain": [
       "     Invoice StockCode                    Description  Quantity  \\\n",
       "178  C489449     22087       PAPER BUNTING WHITE LACE     -12.0   \n",
       "179  C489449    85206A   CREAM FELT EASTER EGG BASKET      -6.0   \n",
       "180  C489449     21895  POTTING SHED SOW 'N' GROW SET      -4.0   \n",
       "181  C489449     21896             POTTING SHED TWINE      -6.0   \n",
       "182  C489449     22083     PAPER CHAIN KIT RETRO SPOT     -12.0   \n",
       "\n",
       "            InvoiceDate  Price  Customer ID    Country  \n",
       "178 2009-12-01 10:33:00   2.95      16321.0  Australia  \n",
       "179 2009-12-01 10:33:00   1.65      16321.0  Australia  \n",
       "180 2009-12-01 10:33:00   4.25      16321.0  Australia  \n",
       "181 2009-12-01 10:33:00   2.10      16321.0  Australia  \n",
       "182 2009-12-01 10:33:00   2.95      16321.0  Australia  "
      ]
     },
     "execution_count": 12,
     "metadata": {},
     "output_type": "execute_result"
    }
   ],
   "source": [
    "df[df['Quantity']<0].head()"
   ]
  },
  {
   "cell_type": "code",
   "execution_count": 13,
   "id": "da54376c-8348-46e0-bdfb-75316954b251",
   "metadata": {},
   "outputs": [
    {
     "data": {
      "text/html": [
       "<div>\n",
       "<style scoped>\n",
       "    .dataframe tbody tr th:only-of-type {\n",
       "        vertical-align: middle;\n",
       "    }\n",
       "\n",
       "    .dataframe tbody tr th {\n",
       "        vertical-align: top;\n",
       "    }\n",
       "\n",
       "    .dataframe thead th {\n",
       "        text-align: right;\n",
       "    }\n",
       "</style>\n",
       "<table border=\"1\" class=\"dataframe\">\n",
       "  <thead>\n",
       "    <tr style=\"text-align: right;\">\n",
       "      <th></th>\n",
       "      <th>Invoice</th>\n",
       "      <th>StockCode</th>\n",
       "      <th>Description</th>\n",
       "      <th>Quantity</th>\n",
       "      <th>InvoiceDate</th>\n",
       "      <th>Price</th>\n",
       "      <th>Customer ID</th>\n",
       "      <th>Country</th>\n",
       "    </tr>\n",
       "  </thead>\n",
       "  <tbody>\n",
       "    <tr>\n",
       "      <th>179403</th>\n",
       "      <td>A506401</td>\n",
       "      <td>B</td>\n",
       "      <td>Adjust bad debt</td>\n",
       "      <td>1.0</td>\n",
       "      <td>2010-04-29 13:36:00</td>\n",
       "      <td>-53594.36</td>\n",
       "      <td>NaN</td>\n",
       "      <td>United Kingdom</td>\n",
       "    </tr>\n",
       "    <tr>\n",
       "      <th>276274</th>\n",
       "      <td>A516228</td>\n",
       "      <td>B</td>\n",
       "      <td>Adjust bad debt</td>\n",
       "      <td>1.0</td>\n",
       "      <td>2010-07-19 11:24:00</td>\n",
       "      <td>-44031.79</td>\n",
       "      <td>NaN</td>\n",
       "      <td>United Kingdom</td>\n",
       "    </tr>\n",
       "    <tr>\n",
       "      <th>403472</th>\n",
       "      <td>A528059</td>\n",
       "      <td>B</td>\n",
       "      <td>Adjust bad debt</td>\n",
       "      <td>1.0</td>\n",
       "      <td>2010-10-20 12:04:00</td>\n",
       "      <td>-38925.87</td>\n",
       "      <td>NaN</td>\n",
       "      <td>United Kingdom</td>\n",
       "    </tr>\n",
       "  </tbody>\n",
       "</table>\n",
       "</div>"
      ],
      "text/plain": [
       "        Invoice StockCode      Description  Quantity         InvoiceDate  \\\n",
       "179403  A506401         B  Adjust bad debt       1.0 2010-04-29 13:36:00   \n",
       "276274  A516228         B  Adjust bad debt       1.0 2010-07-19 11:24:00   \n",
       "403472  A528059         B  Adjust bad debt       1.0 2010-10-20 12:04:00   \n",
       "\n",
       "           Price  Customer ID         Country  \n",
       "179403 -53594.36          NaN  United Kingdom  \n",
       "276274 -44031.79          NaN  United Kingdom  \n",
       "403472 -38925.87          NaN  United Kingdom  "
      ]
     },
     "execution_count": 13,
     "metadata": {},
     "output_type": "execute_result"
    }
   ],
   "source": [
    "df[df['Price']<0.0].head()"
   ]
  },
  {
   "cell_type": "markdown",
   "id": "04bcc49f-3e32-4a7e-9caa-884fa89095e6",
   "metadata": {},
   "source": [
    "<p> Rows with negative Quantity have InvoiceNo starting with 'C', indicating cancellations/returns, so we’ll keep them.\n",
    "For negative Price, only 3 rows exist with InvoiceNo starting with 'A' and description \"Adjust bad debt\" — these are accounting entries rather than customer transaction, so we’ll drop them.</p>"
   ]
  },
  {
   "cell_type": "code",
   "execution_count": 14,
   "id": "199e7a7d-ec40-44ec-b4be-3ef7011b3dea",
   "metadata": {},
   "outputs": [],
   "source": [
    "df=df[~df['Invoice'].str.startswith('A',na=False)]"
   ]
  },
  {
   "cell_type": "code",
   "execution_count": 15,
   "id": "c1ee815d-d8bb-43fe-96d4-9bd79db64a11",
   "metadata": {},
   "outputs": [
    {
     "data": {
      "text/html": [
       "<div>\n",
       "<style scoped>\n",
       "    .dataframe tbody tr th:only-of-type {\n",
       "        vertical-align: middle;\n",
       "    }\n",
       "\n",
       "    .dataframe tbody tr th {\n",
       "        vertical-align: top;\n",
       "    }\n",
       "\n",
       "    .dataframe thead th {\n",
       "        text-align: right;\n",
       "    }\n",
       "</style>\n",
       "<table border=\"1\" class=\"dataframe\">\n",
       "  <thead>\n",
       "    <tr style=\"text-align: right;\">\n",
       "      <th></th>\n",
       "      <th>Invoice</th>\n",
       "      <th>StockCode</th>\n",
       "      <th>Description</th>\n",
       "      <th>Quantity</th>\n",
       "      <th>InvoiceDate</th>\n",
       "      <th>Price</th>\n",
       "      <th>Customer ID</th>\n",
       "      <th>Country</th>\n",
       "    </tr>\n",
       "  </thead>\n",
       "  <tbody>\n",
       "  </tbody>\n",
       "</table>\n",
       "</div>"
      ],
      "text/plain": [
       "Empty DataFrame\n",
       "Columns: [Invoice, StockCode, Description, Quantity, InvoiceDate, Price, Customer ID, Country]\n",
       "Index: []"
      ]
     },
     "execution_count": 15,
     "metadata": {},
     "output_type": "execute_result"
    }
   ],
   "source": [
    "df[df['Price']<0.0].head()"
   ]
  },
  {
   "cell_type": "code",
   "execution_count": 16,
   "id": "38665e53-b142-4707-989e-67daae8a4b81",
   "metadata": {},
   "outputs": [
    {
     "data": {
      "text/plain": [
       "Invoice             2\n",
       "StockCode           2\n",
       "Description      2930\n",
       "Quantity            2\n",
       "InvoiceDate         1\n",
       "Price               2\n",
       "Customer ID    107926\n",
       "Country             2\n",
       "dtype: int64"
      ]
     },
     "execution_count": 16,
     "metadata": {},
     "output_type": "execute_result"
    }
   ],
   "source": [
    "df.isnull().sum()"
   ]
  },
  {
   "cell_type": "markdown",
   "id": "2f20b50c-75d7-4972-9fc6-6f5c7f3f1e58",
   "metadata": {},
   "source": [
    "<p>As more than 100000 entries have 'Customer ID' missing and our goal is to predict customer lifetime value these entries won't map to particular customer and will not contribute meaningfully to the analysis. Hence, we will remove them.</p>"
   ]
  },
  {
   "cell_type": "code",
   "execution_count": 17,
   "id": "e9301d15-01a3-4c3c-8567-7798dd156cae",
   "metadata": {},
   "outputs": [],
   "source": [
    "df.dropna(inplace=True)"
   ]
  },
  {
   "cell_type": "code",
   "execution_count": 18,
   "id": "bf83185a-da3a-4e9e-b34c-6784f408bce4",
   "metadata": {},
   "outputs": [],
   "source": [
    "df_future.dropna(inplace=True)"
   ]
  },
  {
   "cell_type": "code",
   "execution_count": 19,
   "id": "da232ab5-4542-4ca0-99e2-a9f50888e57d",
   "metadata": {},
   "outputs": [
    {
     "data": {
      "text/plain": [
       "Invoice        0\n",
       "StockCode      0\n",
       "Description    0\n",
       "Quantity       0\n",
       "InvoiceDate    0\n",
       "Price          0\n",
       "Customer ID    0\n",
       "Country        0\n",
       "dtype: int64"
      ]
     },
     "execution_count": 19,
     "metadata": {},
     "output_type": "execute_result"
    }
   ],
   "source": [
    "df.isnull().sum()"
   ]
  },
  {
   "cell_type": "code",
   "execution_count": 20,
   "id": "ceef142a-4d1f-41aa-8bf6-116f599e184c",
   "metadata": {},
   "outputs": [
    {
     "data": {
      "text/plain": [
       "(417534, 8)"
      ]
     },
     "execution_count": 20,
     "metadata": {},
     "output_type": "execute_result"
    }
   ],
   "source": [
    "df.shape"
   ]
  },
  {
   "cell_type": "code",
   "execution_count": 21,
   "id": "f8cace0c-860d-4bf4-9d88-dd2edab4d4db",
   "metadata": {},
   "outputs": [
    {
     "data": {
      "text/plain": [
       "4383"
      ]
     },
     "execution_count": 21,
     "metadata": {},
     "output_type": "execute_result"
    }
   ],
   "source": [
    "df['Customer ID'].nunique()"
   ]
  },
  {
   "cell_type": "code",
   "execution_count": 22,
   "id": "1dde0679-43cf-4c19-8d9f-f7274bd76b23",
   "metadata": {},
   "outputs": [
    {
     "data": {
      "text/plain": [
       "23587"
      ]
     },
     "execution_count": 22,
     "metadata": {},
     "output_type": "execute_result"
    }
   ],
   "source": [
    "df['Invoice'].nunique()"
   ]
  },
  {
   "cell_type": "code",
   "execution_count": 23,
   "id": "2ed0fde4-c860-4c2e-9765-7a00b9c48169",
   "metadata": {},
   "outputs": [
    {
     "data": {
      "text/plain": [
       "9839"
      ]
     },
     "execution_count": 23,
     "metadata": {},
     "output_type": "execute_result"
    }
   ],
   "source": [
    "df['Invoice'].str.startswith('C').sum()"
   ]
  },
  {
   "cell_type": "code",
   "execution_count": 24,
   "id": "8ed25d0a-5af8-4258-8b4c-b519a6243889",
   "metadata": {},
   "outputs": [
    {
     "data": {
      "text/plain": [
       "4031"
      ]
     },
     "execution_count": 24,
     "metadata": {},
     "output_type": "execute_result"
    }
   ],
   "source": [
    "df['StockCode'].nunique()"
   ]
  },
  {
   "cell_type": "markdown",
   "id": "1555ae30-6779-4329-98f8-45f5c35dc2c1",
   "metadata": {},
   "source": [
    "We found:- \n",
    "<li> 4,383 unique customers</li>\n",
    "<li>23,587 unique invoices (9,839 of which are cancellations)</li>\n",
    "<li>4,031 unique products</li>"
   ]
  },
  {
   "cell_type": "markdown",
   "id": "8a96f2c6-4c93-4f1d-a552-051e0ac56a4e",
   "metadata": {},
   "source": [
    "<h2>Feature Engineering</h2>"
   ]
  },
  {
   "cell_type": "markdown",
   "id": "6ffa27d6-b022-4632-96dc-4800e4b8df1f",
   "metadata": {},
   "source": [
    "<p>Starting with calculating the total amount spent per transaction to understand each customer's actual contribution to their CLV.</p>"
   ]
  },
  {
   "cell_type": "code",
   "execution_count": 25,
   "id": "36e61ea5-69bb-41f6-a638-457e523582ea",
   "metadata": {},
   "outputs": [],
   "source": [
    "df['Total']=df['Quantity']*df['Price']"
   ]
  },
  {
   "cell_type": "code",
   "execution_count": 26,
   "id": "62cb1f5e-8372-4681-ad61-01247ebd76e8",
   "metadata": {},
   "outputs": [],
   "source": [
    "df_future['Total']=df_future['Quantity']*df_future['Price']"
   ]
  },
  {
   "cell_type": "code",
   "execution_count": 27,
   "id": "bbca1fe7-d4c6-4ba5-83c9-f63cf3c62550",
   "metadata": {},
   "outputs": [
    {
     "data": {
      "text/html": [
       "<div>\n",
       "<style scoped>\n",
       "    .dataframe tbody tr th:only-of-type {\n",
       "        vertical-align: middle;\n",
       "    }\n",
       "\n",
       "    .dataframe tbody tr th {\n",
       "        vertical-align: top;\n",
       "    }\n",
       "\n",
       "    .dataframe thead th {\n",
       "        text-align: right;\n",
       "    }\n",
       "</style>\n",
       "<table border=\"1\" class=\"dataframe\">\n",
       "  <thead>\n",
       "    <tr style=\"text-align: right;\">\n",
       "      <th></th>\n",
       "      <th>Invoice</th>\n",
       "      <th>StockCode</th>\n",
       "      <th>Description</th>\n",
       "      <th>Quantity</th>\n",
       "      <th>InvoiceDate</th>\n",
       "      <th>Price</th>\n",
       "      <th>Customer ID</th>\n",
       "      <th>Country</th>\n",
       "      <th>Total</th>\n",
       "    </tr>\n",
       "  </thead>\n",
       "  <tbody>\n",
       "    <tr>\n",
       "      <th>0</th>\n",
       "      <td>489434</td>\n",
       "      <td>85048</td>\n",
       "      <td>15CM CHRISTMAS GLASS BALL 20 LIGHTS</td>\n",
       "      <td>12.0</td>\n",
       "      <td>2009-12-01 07:45:00</td>\n",
       "      <td>6.95</td>\n",
       "      <td>13085.0</td>\n",
       "      <td>United Kingdom</td>\n",
       "      <td>83.4</td>\n",
       "    </tr>\n",
       "    <tr>\n",
       "      <th>1</th>\n",
       "      <td>489434</td>\n",
       "      <td>79323P</td>\n",
       "      <td>PINK CHERRY LIGHTS</td>\n",
       "      <td>12.0</td>\n",
       "      <td>2009-12-01 07:45:00</td>\n",
       "      <td>6.75</td>\n",
       "      <td>13085.0</td>\n",
       "      <td>United Kingdom</td>\n",
       "      <td>81.0</td>\n",
       "    </tr>\n",
       "    <tr>\n",
       "      <th>2</th>\n",
       "      <td>489434</td>\n",
       "      <td>79323W</td>\n",
       "      <td>WHITE CHERRY LIGHTS</td>\n",
       "      <td>12.0</td>\n",
       "      <td>2009-12-01 07:45:00</td>\n",
       "      <td>6.75</td>\n",
       "      <td>13085.0</td>\n",
       "      <td>United Kingdom</td>\n",
       "      <td>81.0</td>\n",
       "    </tr>\n",
       "    <tr>\n",
       "      <th>3</th>\n",
       "      <td>489434</td>\n",
       "      <td>22041</td>\n",
       "      <td>RECORD FRAME 7\" SINGLE SIZE</td>\n",
       "      <td>48.0</td>\n",
       "      <td>2009-12-01 07:45:00</td>\n",
       "      <td>2.10</td>\n",
       "      <td>13085.0</td>\n",
       "      <td>United Kingdom</td>\n",
       "      <td>100.8</td>\n",
       "    </tr>\n",
       "    <tr>\n",
       "      <th>4</th>\n",
       "      <td>489434</td>\n",
       "      <td>21232</td>\n",
       "      <td>STRAWBERRY CERAMIC TRINKET BOX</td>\n",
       "      <td>24.0</td>\n",
       "      <td>2009-12-01 07:45:00</td>\n",
       "      <td>1.25</td>\n",
       "      <td>13085.0</td>\n",
       "      <td>United Kingdom</td>\n",
       "      <td>30.0</td>\n",
       "    </tr>\n",
       "  </tbody>\n",
       "</table>\n",
       "</div>"
      ],
      "text/plain": [
       "  Invoice StockCode                          Description  Quantity  \\\n",
       "0  489434     85048  15CM CHRISTMAS GLASS BALL 20 LIGHTS      12.0   \n",
       "1  489434    79323P                   PINK CHERRY LIGHTS      12.0   \n",
       "2  489434    79323W                  WHITE CHERRY LIGHTS      12.0   \n",
       "3  489434     22041         RECORD FRAME 7\" SINGLE SIZE       48.0   \n",
       "4  489434     21232       STRAWBERRY CERAMIC TRINKET BOX      24.0   \n",
       "\n",
       "          InvoiceDate  Price  Customer ID         Country  Total  \n",
       "0 2009-12-01 07:45:00   6.95      13085.0  United Kingdom   83.4  \n",
       "1 2009-12-01 07:45:00   6.75      13085.0  United Kingdom   81.0  \n",
       "2 2009-12-01 07:45:00   6.75      13085.0  United Kingdom   81.0  \n",
       "3 2009-12-01 07:45:00   2.10      13085.0  United Kingdom  100.8  \n",
       "4 2009-12-01 07:45:00   1.25      13085.0  United Kingdom   30.0  "
      ]
     },
     "execution_count": 27,
     "metadata": {},
     "output_type": "execute_result"
    }
   ],
   "source": [
    "df.head()"
   ]
  },
  {
   "cell_type": "markdown",
   "id": "25f6482e-5b5d-4334-bde9-88520aed1c74",
   "metadata": {},
   "source": [
    "<p>To predict Customer Lifetime Value, we need to capture customer purchasing behavior in a structured format.\n",
    "<br>We apply the RFM framework, which summarizes:\n",
    "<li>Recency: How recently a customer made their last purchase</li>\n",
    "<li>Frequency: How often the customer made purchases</li>\n",
    "<li>Monetary: How much the customer has spent in total</li>\n",
    "These metrics are calculated at the customer level, transforming our transaction-level dataset into a customer-centric view, suitable for predictive modeling.\n",
    "</p>"
   ]
  },
  {
   "cell_type": "code",
   "execution_count": 28,
   "id": "2418897a-3d29-4486-ba93-bbcd96954478",
   "metadata": {},
   "outputs": [],
   "source": [
    "monetary=df.groupby('Customer ID')['Total'].sum()\n",
    "monetary=monetary.rename('Monetary')"
   ]
  },
  {
   "cell_type": "code",
   "execution_count": 29,
   "id": "907bfaad-c72b-4306-b736-0e89a5c84333",
   "metadata": {},
   "outputs": [
    {
     "data": {
      "text/plain": [
       "1187.08"
      ]
     },
     "execution_count": 29,
     "metadata": {},
     "output_type": "execute_result"
    }
   ],
   "source": [
    "monetary[13085.0]"
   ]
  },
  {
   "cell_type": "code",
   "execution_count": 30,
   "id": "144527bd-a5d4-469b-8ee8-0a9af7d5072e",
   "metadata": {},
   "outputs": [],
   "source": [
    "frequency=df.groupby('Customer ID')['Invoice'].nunique()\n",
    "frequency = frequency.rename('Frequency')"
   ]
  },
  {
   "cell_type": "code",
   "execution_count": 31,
   "id": "f9bbb22a-e4b1-466f-927d-5db442a40173",
   "metadata": {},
   "outputs": [
    {
     "data": {
      "text/plain": [
       "7"
      ]
     },
     "execution_count": 31,
     "metadata": {},
     "output_type": "execute_result"
    }
   ],
   "source": [
    "frequency[13085.0]"
   ]
  },
  {
   "cell_type": "code",
   "execution_count": 32,
   "id": "f7e29b82-f356-493d-833f-bd01af93b69a",
   "metadata": {},
   "outputs": [
    {
     "data": {
      "text/plain": [
       "Timestamp('2010-12-10 20:01:00')"
      ]
     },
     "execution_count": 32,
     "metadata": {},
     "output_type": "execute_result"
    }
   ],
   "source": [
    "ref_date = df['InvoiceDate'].max() + pd.Timedelta(days=1)\n",
    "recency=df.groupby('Customer ID')['InvoiceDate'].max().apply(lambda x:(ref_date-x).days)\n",
    "recency = recency.rename('Recency')\n",
    "ref_date"
   ]
  },
  {
   "cell_type": "code",
   "execution_count": 33,
   "id": "d3a9114b-018e-44f1-95cf-15086f2e21a9",
   "metadata": {},
   "outputs": [
    {
     "data": {
      "text/plain": [
       "56"
      ]
     },
     "execution_count": 33,
     "metadata": {},
     "output_type": "execute_result"
    }
   ],
   "source": [
    "recency[13085.0]"
   ]
  },
  {
   "cell_type": "code",
   "execution_count": 34,
   "id": "de2fbe9c-c514-4072-83b3-161c4a66e545",
   "metadata": {},
   "outputs": [],
   "source": [
    "country = df.groupby('Customer ID')['Country'].first()"
   ]
  },
  {
   "cell_type": "code",
   "execution_count": 35,
   "id": "0e95f16a-2cee-418f-9a95-ce48a39a8357",
   "metadata": {},
   "outputs": [
    {
     "data": {
      "text/html": [
       "<div>\n",
       "<style scoped>\n",
       "    .dataframe tbody tr th:only-of-type {\n",
       "        vertical-align: middle;\n",
       "    }\n",
       "\n",
       "    .dataframe tbody tr th {\n",
       "        vertical-align: top;\n",
       "    }\n",
       "\n",
       "    .dataframe thead th {\n",
       "        text-align: right;\n",
       "    }\n",
       "</style>\n",
       "<table border=\"1\" class=\"dataframe\">\n",
       "  <thead>\n",
       "    <tr style=\"text-align: right;\">\n",
       "      <th></th>\n",
       "      <th>Customer ID</th>\n",
       "      <th>Recency</th>\n",
       "      <th>Frequency</th>\n",
       "      <th>Monetary</th>\n",
       "      <th>Country</th>\n",
       "    </tr>\n",
       "  </thead>\n",
       "  <tbody>\n",
       "    <tr>\n",
       "      <th>0</th>\n",
       "      <td>12346.0</td>\n",
       "      <td>67</td>\n",
       "      <td>15</td>\n",
       "      <td>-64.68</td>\n",
       "      <td>United Kingdom</td>\n",
       "    </tr>\n",
       "    <tr>\n",
       "      <th>1</th>\n",
       "      <td>12347.0</td>\n",
       "      <td>3</td>\n",
       "      <td>2</td>\n",
       "      <td>1323.32</td>\n",
       "      <td>Iceland</td>\n",
       "    </tr>\n",
       "    <tr>\n",
       "      <th>2</th>\n",
       "      <td>12348.0</td>\n",
       "      <td>74</td>\n",
       "      <td>1</td>\n",
       "      <td>222.16</td>\n",
       "      <td>Finland</td>\n",
       "    </tr>\n",
       "    <tr>\n",
       "      <th>3</th>\n",
       "      <td>12349.0</td>\n",
       "      <td>43</td>\n",
       "      <td>4</td>\n",
       "      <td>2646.99</td>\n",
       "      <td>Italy</td>\n",
       "    </tr>\n",
       "    <tr>\n",
       "      <th>4</th>\n",
       "      <td>12351.0</td>\n",
       "      <td>11</td>\n",
       "      <td>1</td>\n",
       "      <td>300.93</td>\n",
       "      <td>Unspecified</td>\n",
       "    </tr>\n",
       "  </tbody>\n",
       "</table>\n",
       "</div>"
      ],
      "text/plain": [
       "   Customer ID  Recency  Frequency  Monetary         Country\n",
       "0      12346.0       67         15    -64.68  United Kingdom\n",
       "1      12347.0        3          2   1323.32         Iceland\n",
       "2      12348.0       74          1    222.16         Finland\n",
       "3      12349.0       43          4   2646.99           Italy\n",
       "4      12351.0       11          1    300.93     Unspecified"
      ]
     },
     "execution_count": 35,
     "metadata": {},
     "output_type": "execute_result"
    }
   ],
   "source": [
    "rfm=pd.concat([recency,frequency,monetary,country],axis=1)\n",
    "rfm.reset_index(inplace=True)\n",
    "rfm.head()"
   ]
  },
  {
   "cell_type": "code",
   "execution_count": 36,
   "id": "fa874ecf-418e-48d4-820c-101c3e4b31d0",
   "metadata": {},
   "outputs": [],
   "source": [
    "future = df_future.groupby('Customer ID').agg({\n",
    "    'Total': 'sum'\n",
    "}).reset_index()\n",
    "\n",
    "future.columns = ['Customer ID', 'Future_Monetary']\n",
    "rfm = pd.merge(rfm, future, on='Customer ID').dropna()"
   ]
  },
  {
   "cell_type": "markdown",
   "id": "3e38ba75-6323-4449-ac74-486612b316fa",
   "metadata": {},
   "source": [
    "Added `Future_Monetary` for each customer by aggregating the second dataset — this serves as the actual CLV target to train models on.\n"
   ]
  },
  {
   "cell_type": "code",
   "execution_count": 37,
   "id": "63d7fd87-08f8-4889-9a4f-ecea08171ccc",
   "metadata": {},
   "outputs": [],
   "source": [
    "rfm['a']=rfm['Recency'] * rfm['Frequency']\n",
    "rfm['b']= rfm['Frequency'] / rfm['Recency'] \n",
    "rfm['c']=rfm['Monetary']*rfm['Monetary']"
   ]
  },
  {
   "cell_type": "code",
   "execution_count": 38,
   "id": "708a3a37-475f-467d-88ec-0e01c7219878",
   "metadata": {},
   "outputs": [
    {
     "data": {
      "image/png": "[encoded data removed]",
      "text/plain": [
       "<Figure size 1000x800 with 2 Axes>"
      ]
     },
     "metadata": {},
     "output_type": "display_data"
    }
   ],
   "source": [
    "corr = rfm.drop(['Customer ID','Country'], axis=1).corr()\n",
    "\n",
    "# Plot heatmap\n",
    "plt.figure(figsize=(10,8))\n",
    "sns.heatmap(\n",
    "    corr, \n",
    "    annot=True, \n",
    "    fmt=\".2f\", \n",
    "    cmap='coolwarm', \n",
    "    linewidths=0.5\n",
    ")\n",
    "plt.title(\"Correlation Heatmap of Features\")\n",
    "plt.show()"
   ]
  },
  {
   "cell_type": "markdown",
   "id": "d859c39e-d25c-4976-b288-2a2d57a93405",
   "metadata": {},
   "source": [
    "The heatmap shows that the strongest predictors for Future_Monetary are the original Monetary value and engineered feature `c` (Monetary squared), validating that past spend is the main driver of CLV in this dataset.\n"
   ]
  },
  {
   "cell_type": "code",
   "execution_count": 39,
   "id": "9fc2f71f-4902-4a82-b624-fdbd16dcf038",
   "metadata": {},
   "outputs": [
    {
     "name": "stdout",
     "output_type": "stream",
     "text": [
      "<class 'pandas.core.frame.DataFrame'>\n",
      "RangeIndex: 2737 entries, 0 to 2736\n",
      "Data columns (total 9 columns):\n",
      " #   Column           Non-Null Count  Dtype  \n",
      "---  ------           --------------  -----  \n",
      " 0   Customer ID      2737 non-null   float64\n",
      " 1   Recency          2737 non-null   int64  \n",
      " 2   Frequency        2737 non-null   int64  \n",
      " 3   Monetary         2737 non-null   float64\n",
      " 4   Country          2737 non-null   object \n",
      " 5   Future_Monetary  2737 non-null   float64\n",
      " 6   a                2737 non-null   int64  \n",
      " 7   b                2737 non-null   float64\n",
      " 8   c                2737 non-null   float64\n",
      "dtypes: float64(5), int64(3), object(1)\n",
      "memory usage: 192.6+ KB\n"
     ]
    }
   ],
   "source": [
    "rfm.info()"
   ]
  },
  {
   "cell_type": "code",
   "execution_count": 40,
   "id": "d4fbcd7b-b9a7-4839-81ab-315a4a2aadac",
   "metadata": {},
   "outputs": [
    {
     "data": {
      "text/html": [
       "<div>\n",
       "<style scoped>\n",
       "    .dataframe tbody tr th:only-of-type {\n",
       "        vertical-align: middle;\n",
       "    }\n",
       "\n",
       "    .dataframe tbody tr th {\n",
       "        vertical-align: top;\n",
       "    }\n",
       "\n",
       "    .dataframe thead th {\n",
       "        text-align: right;\n",
       "    }\n",
       "</style>\n",
       "<table border=\"1\" class=\"dataframe\">\n",
       "  <thead>\n",
       "    <tr style=\"text-align: right;\">\n",
       "      <th></th>\n",
       "      <th>Customer ID</th>\n",
       "      <th>Recency</th>\n",
       "      <th>Frequency</th>\n",
       "      <th>Monetary</th>\n",
       "      <th>Future_Monetary</th>\n",
       "      <th>a</th>\n",
       "      <th>b</th>\n",
       "      <th>c</th>\n",
       "    </tr>\n",
       "  </thead>\n",
       "  <tbody>\n",
       "    <tr>\n",
       "      <th>count</th>\n",
       "      <td>2737.000000</td>\n",
       "      <td>2737.000000</td>\n",
       "      <td>2737.000000</td>\n",
       "      <td>2737.000000</td>\n",
       "      <td>2737.000000</td>\n",
       "      <td>2737.000000</td>\n",
       "      <td>2737.000000</td>\n",
       "      <td>2.737000e+03</td>\n",
       "    </tr>\n",
       "    <tr>\n",
       "      <th>mean</th>\n",
       "      <td>15335.531969</td>\n",
       "      <td>61.763610</td>\n",
       "      <td>7.150530</td>\n",
       "      <td>2689.731144</td>\n",
       "      <td>2390.893651</td>\n",
       "      <td>227.189258</td>\n",
       "      <td>1.550845</td>\n",
       "      <td>1.193670e+08</td>\n",
       "    </tr>\n",
       "    <tr>\n",
       "      <th>std</th>\n",
       "      <td>1702.066589</td>\n",
       "      <td>75.196633</td>\n",
       "      <td>12.192414</td>\n",
       "      <td>10591.191420</td>\n",
       "      <td>9842.054627</td>\n",
       "      <td>298.016113</td>\n",
       "      <td>8.559479</td>\n",
       "      <td>2.641243e+09</td>\n",
       "    </tr>\n",
       "    <tr>\n",
       "      <th>min</th>\n",
       "      <td>12346.000000</td>\n",
       "      <td>1.000000</td>\n",
       "      <td>1.000000</td>\n",
       "      <td>-1144.730000</td>\n",
       "      <td>-4287.630000</td>\n",
       "      <td>1.000000</td>\n",
       "      <td>0.002674</td>\n",
       "      <td>0.000000e+00</td>\n",
       "    </tr>\n",
       "    <tr>\n",
       "      <th>25%</th>\n",
       "      <td>13874.000000</td>\n",
       "      <td>12.000000</td>\n",
       "      <td>2.000000</td>\n",
       "      <td>469.780000</td>\n",
       "      <td>325.960000</td>\n",
       "      <td>56.000000</td>\n",
       "      <td>0.034091</td>\n",
       "      <td>2.226330e+05</td>\n",
       "    </tr>\n",
       "    <tr>\n",
       "      <th>50%</th>\n",
       "      <td>15339.000000</td>\n",
       "      <td>32.000000</td>\n",
       "      <td>4.000000</td>\n",
       "      <td>1069.230000</td>\n",
       "      <td>797.070000</td>\n",
       "      <td>136.000000</td>\n",
       "      <td>0.125000</td>\n",
       "      <td>1.145221e+06</td>\n",
       "    </tr>\n",
       "    <tr>\n",
       "      <th>75%</th>\n",
       "      <td>16814.000000</td>\n",
       "      <td>74.000000</td>\n",
       "      <td>8.000000</td>\n",
       "      <td>2353.340000</td>\n",
       "      <td>2043.720000</td>\n",
       "      <td>294.000000</td>\n",
       "      <td>0.571429</td>\n",
       "      <td>5.538209e+06</td>\n",
       "    </tr>\n",
       "    <tr>\n",
       "      <th>max</th>\n",
       "      <td>18287.000000</td>\n",
       "      <td>374.000000</td>\n",
       "      <td>270.000000</td>\n",
       "      <td>341776.730000</td>\n",
       "      <td>279489.020000</td>\n",
       "      <td>7049.000000</td>\n",
       "      <td>270.000000</td>\n",
       "      <td>1.168113e+11</td>\n",
       "    </tr>\n",
       "  </tbody>\n",
       "</table>\n",
       "</div>"
      ],
      "text/plain": [
       "        Customer ID      Recency    Frequency       Monetary  Future_Monetary  \\\n",
       "count   2737.000000  2737.000000  2737.000000    2737.000000      2737.000000   \n",
       "mean   15335.531969    61.763610     7.150530    2689.731144      2390.893651   \n",
       "std     1702.066589    75.196633    12.192414   10591.191420      9842.054627   \n",
       "min    12346.000000     1.000000     1.000000   -1144.730000     -4287.630000   \n",
       "25%    13874.000000    12.000000     2.000000     469.780000       325.960000   \n",
       "50%    15339.000000    32.000000     4.000000    1069.230000       797.070000   \n",
       "75%    16814.000000    74.000000     8.000000    2353.340000      2043.720000   \n",
       "max    18287.000000   374.000000   270.000000  341776.730000    279489.020000   \n",
       "\n",
       "                 a            b             c  \n",
       "count  2737.000000  2737.000000  2.737000e+03  \n",
       "mean    227.189258     1.550845  1.193670e+08  \n",
       "std     298.016113     8.559479  2.641243e+09  \n",
       "min       1.000000     0.002674  0.000000e+00  \n",
       "25%      56.000000     0.034091  2.226330e+05  \n",
       "50%     136.000000     0.125000  1.145221e+06  \n",
       "75%     294.000000     0.571429  5.538209e+06  \n",
       "max    7049.000000   270.000000  1.168113e+11  "
      ]
     },
     "execution_count": 40,
     "metadata": {},
     "output_type": "execute_result"
    }
   ],
   "source": [
    "rfm.describe()"
   ]
  },
  {
   "cell_type": "markdown",
   "id": "6296af60-6d90-4275-9302-c1485d7c6199",
   "metadata": {},
   "source": [
    "<p>Verified the final RFM dataset. Each row represents one customer with their Recency, Frequency, and Monetary value features, ready for CLV modeling.</p>"
   ]
  },
  {
   "cell_type": "code",
   "execution_count": 41,
   "id": "cd0119ec-1729-490e-893a-a83cf58b4bb2",
   "metadata": {},
   "outputs": [
    {
     "data": {
      "image/png": "[encoded data removed]",
      "text/plain": [
       "<Figure size 1800x500 with 3 Axes>"
      ]
     },
     "metadata": {},
     "output_type": "display_data"
    }
   ],
   "source": [
    "fig, axes = plt.subplots(1, 3, figsize=(18, 5))\n",
    "\n",
    "sns.boxplot(y=rfm['Recency'], ax=axes[0])\n",
    "axes[0].set_title('Recency')\n",
    "\n",
    "sns.boxplot(y=rfm['Frequency'], ax=axes[1])\n",
    "axes[1].set_title('Frequency')\n",
    "\n",
    "sns.boxplot(y=rfm['Monetary'], ax=axes[2])\n",
    "axes[2].set_title('Monetary')\n",
    "\n",
    "plt.show()"
   ]
  },
  {
   "cell_type": "markdown",
   "id": "4a6ee5f4-89fe-4eeb-9622-a0a02554fd2b",
   "metadata": {},
   "source": [
    "<p>Checking the distribution of Recency, Frequency, and Monetary to identify possible outliers that may affect the model.</p>"
   ]
  },
  {
   "cell_type": "markdown",
   "id": "b4a38dc6-fa33-4116-b510-36784c5233e3",
   "metadata": {},
   "source": [
    "<p>RFM boxplots show that most customers purchased recently, bought few times, and spent small amounts, but there are clear outliers indicating a few loyal and high-spending customers who will heavily influence overall CLV.</p>\n"
   ]
  },
  {
   "cell_type": "code",
   "execution_count": 42,
   "id": "766f96da-763c-41ab-804a-17311f3063c9",
   "metadata": {},
   "outputs": [
    {
     "data": {
      "text/html": [
       "<div>\n",
       "<style scoped>\n",
       "    .dataframe tbody tr th:only-of-type {\n",
       "        vertical-align: middle;\n",
       "    }\n",
       "\n",
       "    .dataframe tbody tr th {\n",
       "        vertical-align: top;\n",
       "    }\n",
       "\n",
       "    .dataframe thead th {\n",
       "        text-align: right;\n",
       "    }\n",
       "</style>\n",
       "<table border=\"1\" class=\"dataframe\">\n",
       "  <thead>\n",
       "    <tr style=\"text-align: right;\">\n",
       "      <th></th>\n",
       "      <th>Customer ID</th>\n",
       "      <th>Recency</th>\n",
       "      <th>Frequency</th>\n",
       "      <th>Monetary</th>\n",
       "      <th>Country</th>\n",
       "      <th>Future_Monetary</th>\n",
       "      <th>a</th>\n",
       "      <th>b</th>\n",
       "      <th>c</th>\n",
       "      <th>R_Score</th>\n",
       "      <th>F_Score</th>\n",
       "      <th>M_Score</th>\n",
       "      <th>RFM_Score</th>\n",
       "    </tr>\n",
       "  </thead>\n",
       "  <tbody>\n",
       "    <tr>\n",
       "      <th>0</th>\n",
       "      <td>12346.0</td>\n",
       "      <td>67</td>\n",
       "      <td>15</td>\n",
       "      <td>-64.68</td>\n",
       "      <td>United Kingdom</td>\n",
       "      <td>0.00</td>\n",
       "      <td>1005</td>\n",
       "      <td>0.223881</td>\n",
       "      <td>4.183502e+03</td>\n",
       "      <td>2</td>\n",
       "      <td>5</td>\n",
       "      <td>1</td>\n",
       "      <td>8</td>\n",
       "    </tr>\n",
       "    <tr>\n",
       "      <th>1</th>\n",
       "      <td>12347.0</td>\n",
       "      <td>3</td>\n",
       "      <td>2</td>\n",
       "      <td>1323.32</td>\n",
       "      <td>Iceland</td>\n",
       "      <td>3598.21</td>\n",
       "      <td>6</td>\n",
       "      <td>0.666667</td>\n",
       "      <td>1.751176e+06</td>\n",
       "      <td>5</td>\n",
       "      <td>1</td>\n",
       "      <td>3</td>\n",
       "      <td>9</td>\n",
       "    </tr>\n",
       "    <tr>\n",
       "      <th>2</th>\n",
       "      <td>12348.0</td>\n",
       "      <td>74</td>\n",
       "      <td>1</td>\n",
       "      <td>222.16</td>\n",
       "      <td>Finland</td>\n",
       "      <td>1797.24</td>\n",
       "      <td>74</td>\n",
       "      <td>0.013514</td>\n",
       "      <td>4.935507e+04</td>\n",
       "      <td>2</td>\n",
       "      <td>1</td>\n",
       "      <td>1</td>\n",
       "      <td>4</td>\n",
       "    </tr>\n",
       "    <tr>\n",
       "      <th>3</th>\n",
       "      <td>12349.0</td>\n",
       "      <td>43</td>\n",
       "      <td>4</td>\n",
       "      <td>2646.99</td>\n",
       "      <td>Italy</td>\n",
       "      <td>1757.55</td>\n",
       "      <td>172</td>\n",
       "      <td>0.093023</td>\n",
       "      <td>7.006556e+06</td>\n",
       "      <td>3</td>\n",
       "      <td>3</td>\n",
       "      <td>4</td>\n",
       "      <td>10</td>\n",
       "    </tr>\n",
       "    <tr>\n",
       "      <th>4</th>\n",
       "      <td>12352.0</td>\n",
       "      <td>11</td>\n",
       "      <td>2</td>\n",
       "      <td>343.80</td>\n",
       "      <td>Norway</td>\n",
       "      <td>1545.41</td>\n",
       "      <td>22</td>\n",
       "      <td>0.181818</td>\n",
       "      <td>1.181984e+05</td>\n",
       "      <td>4</td>\n",
       "      <td>1</td>\n",
       "      <td>1</td>\n",
       "      <td>6</td>\n",
       "    </tr>\n",
       "  </tbody>\n",
       "</table>\n",
       "</div>"
      ],
      "text/plain": [
       "   Customer ID  Recency  Frequency  Monetary         Country  Future_Monetary  \\\n",
       "0      12346.0       67         15    -64.68  United Kingdom             0.00   \n",
       "1      12347.0        3          2   1323.32         Iceland          3598.21   \n",
       "2      12348.0       74          1    222.16         Finland          1797.24   \n",
       "3      12349.0       43          4   2646.99           Italy          1757.55   \n",
       "4      12352.0       11          2    343.80          Norway          1545.41   \n",
       "\n",
       "      a         b             c R_Score F_Score M_Score  RFM_Score  \n",
       "0  1005  0.223881  4.183502e+03       2       5       1          8  \n",
       "1     6  0.666667  1.751176e+06       5       1       3          9  \n",
       "2    74  0.013514  4.935507e+04       2       1       1          4  \n",
       "3   172  0.093023  7.006556e+06       3       3       4         10  \n",
       "4    22  0.181818  1.181984e+05       4       1       1          6  "
      ]
     },
     "execution_count": 42,
     "metadata": {},
     "output_type": "execute_result"
    }
   ],
   "source": [
    "# Use quantiles to score\n",
    "rfm['R_Score'] = pd.qcut(rfm['Recency'], 5, labels=[5,4,3,2,1])\n",
    "rfm['F_Score'] = pd.qcut(rfm['Frequency'].rank(method='first'), 5, labels=[1,2,3,4,5])\n",
    "rfm['M_Score'] = pd.qcut(rfm['Monetary'], 5, labels=[1,2,3,4,5])\n",
    "\n",
    "# Total RFM Score\n",
    "rfm['RFM_Score'] = rfm[['R_Score', 'F_Score', 'M_Score']].sum(axis=1)\n",
    "rfm.head()\n"
   ]
  },
  {
   "cell_type": "markdown",
   "id": "c9b5d4a3-ac49-466a-a220-c60a9e8efe6b",
   "metadata": {},
   "source": [
    "<p>Assigning scores from 1–5 for Recency, Frequency, and Monetary based on quintiles, then combining them into an overall RFM Score for segmentation.</p>\n"
   ]
  },
  {
   "cell_type": "code",
   "execution_count": 43,
   "id": "0ba7d333-d61f-4dbb-91a5-b86bf8b0edf8",
   "metadata": {},
   "outputs": [
    {
     "data": {
      "text/html": [
       "<div>\n",
       "<style scoped>\n",
       "    .dataframe tbody tr th:only-of-type {\n",
       "        vertical-align: middle;\n",
       "    }\n",
       "\n",
       "    .dataframe tbody tr th {\n",
       "        vertical-align: top;\n",
       "    }\n",
       "\n",
       "    .dataframe thead th {\n",
       "        text-align: right;\n",
       "    }\n",
       "</style>\n",
       "<table border=\"1\" class=\"dataframe\">\n",
       "  <thead>\n",
       "    <tr style=\"text-align: right;\">\n",
       "      <th></th>\n",
       "      <th>Customer ID</th>\n",
       "      <th>Recency</th>\n",
       "      <th>Frequency</th>\n",
       "      <th>Monetary</th>\n",
       "      <th>Country</th>\n",
       "      <th>Future_Monetary</th>\n",
       "      <th>a</th>\n",
       "      <th>b</th>\n",
       "      <th>c</th>\n",
       "      <th>R_Score</th>\n",
       "      <th>F_Score</th>\n",
       "      <th>M_Score</th>\n",
       "      <th>RFM_Score</th>\n",
       "    </tr>\n",
       "  </thead>\n",
       "  <tbody>\n",
       "    <tr>\n",
       "      <th>0</th>\n",
       "      <td>12346.0</td>\n",
       "      <td>67</td>\n",
       "      <td>15</td>\n",
       "      <td>-64.68</td>\n",
       "      <td>United Kingdom</td>\n",
       "      <td>0.00</td>\n",
       "      <td>1005</td>\n",
       "      <td>0.223881</td>\n",
       "      <td>4.183502e+03</td>\n",
       "      <td>2</td>\n",
       "      <td>5</td>\n",
       "      <td>1</td>\n",
       "      <td>8</td>\n",
       "    </tr>\n",
       "    <tr>\n",
       "      <th>1</th>\n",
       "      <td>12347.0</td>\n",
       "      <td>3</td>\n",
       "      <td>2</td>\n",
       "      <td>1323.32</td>\n",
       "      <td>Iceland</td>\n",
       "      <td>3598.21</td>\n",
       "      <td>6</td>\n",
       "      <td>0.666667</td>\n",
       "      <td>1.751176e+06</td>\n",
       "      <td>5</td>\n",
       "      <td>1</td>\n",
       "      <td>3</td>\n",
       "      <td>9</td>\n",
       "    </tr>\n",
       "    <tr>\n",
       "      <th>2</th>\n",
       "      <td>12348.0</td>\n",
       "      <td>74</td>\n",
       "      <td>1</td>\n",
       "      <td>222.16</td>\n",
       "      <td>Finland</td>\n",
       "      <td>1797.24</td>\n",
       "      <td>74</td>\n",
       "      <td>0.013514</td>\n",
       "      <td>4.935507e+04</td>\n",
       "      <td>2</td>\n",
       "      <td>1</td>\n",
       "      <td>1</td>\n",
       "      <td>4</td>\n",
       "    </tr>\n",
       "    <tr>\n",
       "      <th>3</th>\n",
       "      <td>12349.0</td>\n",
       "      <td>43</td>\n",
       "      <td>4</td>\n",
       "      <td>2646.99</td>\n",
       "      <td>Italy</td>\n",
       "      <td>1757.55</td>\n",
       "      <td>172</td>\n",
       "      <td>0.093023</td>\n",
       "      <td>7.006556e+06</td>\n",
       "      <td>3</td>\n",
       "      <td>3</td>\n",
       "      <td>4</td>\n",
       "      <td>10</td>\n",
       "    </tr>\n",
       "    <tr>\n",
       "      <th>4</th>\n",
       "      <td>12352.0</td>\n",
       "      <td>11</td>\n",
       "      <td>2</td>\n",
       "      <td>343.80</td>\n",
       "      <td>Norway</td>\n",
       "      <td>1545.41</td>\n",
       "      <td>22</td>\n",
       "      <td>0.181818</td>\n",
       "      <td>1.181984e+05</td>\n",
       "      <td>4</td>\n",
       "      <td>1</td>\n",
       "      <td>1</td>\n",
       "      <td>6</td>\n",
       "    </tr>\n",
       "  </tbody>\n",
       "</table>\n",
       "</div>"
      ],
      "text/plain": [
       "   Customer ID  Recency  Frequency  Monetary         Country  Future_Monetary  \\\n",
       "0      12346.0       67         15    -64.68  United Kingdom             0.00   \n",
       "1      12347.0        3          2   1323.32         Iceland          3598.21   \n",
       "2      12348.0       74          1    222.16         Finland          1797.24   \n",
       "3      12349.0       43          4   2646.99           Italy          1757.55   \n",
       "4      12352.0       11          2    343.80          Norway          1545.41   \n",
       "\n",
       "      a         b             c R_Score F_Score M_Score  RFM_Score  \n",
       "0  1005  0.223881  4.183502e+03       2       5       1          8  \n",
       "1     6  0.666667  1.751176e+06       5       1       3          9  \n",
       "2    74  0.013514  4.935507e+04       2       1       1          4  \n",
       "3   172  0.093023  7.006556e+06       3       3       4         10  \n",
       "4    22  0.181818  1.181984e+05       4       1       1          6  "
      ]
     },
     "execution_count": 43,
     "metadata": {},
     "output_type": "execute_result"
    }
   ],
   "source": [
    "rfm.head()"
   ]
  },
  {
   "cell_type": "code",
   "execution_count": 44,
   "id": "cc6eb15b-756c-456d-8bfd-fe63232cbdeb",
   "metadata": {},
   "outputs": [],
   "source": [
    "basket_size = df.groupby(['Customer ID', 'Invoice']).size().reset_index(name='ProductsPerBasket')\n",
    "avg_basket_size = basket_size.groupby('Customer ID')['ProductsPerBasket'].mean().reset_index(name='AvgBasketSize')\n",
    "rfm= rfm.merge(avg_basket_size, on='Customer ID', how='left')"
   ]
  },
  {
   "cell_type": "code",
   "execution_count": 45,
   "id": "d3be3176-632a-461e-b06c-83efca064999",
   "metadata": {},
   "outputs": [],
   "source": [
    "avg_spending = df.groupby('Customer ID')['Total'].mean().reset_index(name='AvgSpending')\n",
    "rfm = rfm.merge(avg_spending, on='Customer ID', how='left')"
   ]
  },
  {
   "cell_type": "code",
   "execution_count": 46,
   "id": "2bd94aea-b670-4c02-979c-61f9759688f1",
   "metadata": {},
   "outputs": [],
   "source": [
    "unique_products = df.groupby('Customer ID')['StockCode'].nunique().reset_index(name='UniqueProductsBought')\n",
    "rfm = rfm.merge(unique_products, on='Customer ID', how='left')"
   ]
  },
  {
   "cell_type": "markdown",
   "id": "e58e7c55-87c3-490a-8d68-7e59a14e4024",
   "metadata": {},
   "source": [
    "To enrich the RFM base, calculated:\n",
    "- **Average Basket Size**: Typical number of products per invoice.\n",
    "- **Average Spending**: Mean spend per transaction.\n",
    "- **Unique Products Bought**: Product diversity per customer.\n",
    "\n",
    "These aim to capture extra behavior signals for CLV."
   ]
  },
  {
   "cell_type": "code",
   "execution_count": 47,
   "id": "4f6fe54d-b6ef-4ebf-945c-ac73888dac59",
   "metadata": {},
   "outputs": [
    {
     "data": {
      "text/html": [
       "<div>\n",
       "<style scoped>\n",
       "    .dataframe tbody tr th:only-of-type {\n",
       "        vertical-align: middle;\n",
       "    }\n",
       "\n",
       "    .dataframe tbody tr th {\n",
       "        vertical-align: top;\n",
       "    }\n",
       "\n",
       "    .dataframe thead th {\n",
       "        text-align: right;\n",
       "    }\n",
       "</style>\n",
       "<table border=\"1\" class=\"dataframe\">\n",
       "  <thead>\n",
       "    <tr style=\"text-align: right;\">\n",
       "      <th></th>\n",
       "      <th>Customer ID</th>\n",
       "      <th>Recency</th>\n",
       "      <th>Frequency</th>\n",
       "      <th>Monetary</th>\n",
       "      <th>Country</th>\n",
       "      <th>Future_Monetary</th>\n",
       "      <th>a</th>\n",
       "      <th>b</th>\n",
       "      <th>c</th>\n",
       "      <th>R_Score</th>\n",
       "      <th>F_Score</th>\n",
       "      <th>M_Score</th>\n",
       "      <th>RFM_Score</th>\n",
       "      <th>AvgBasketSize</th>\n",
       "      <th>AvgSpending</th>\n",
       "      <th>UniqueProductsBought</th>\n",
       "    </tr>\n",
       "  </thead>\n",
       "  <tbody>\n",
       "    <tr>\n",
       "      <th>0</th>\n",
       "      <td>12346.0</td>\n",
       "      <td>67</td>\n",
       "      <td>15</td>\n",
       "      <td>-64.68</td>\n",
       "      <td>United Kingdom</td>\n",
       "      <td>0.00</td>\n",
       "      <td>1005</td>\n",
       "      <td>0.223881</td>\n",
       "      <td>4.183502e+03</td>\n",
       "      <td>2</td>\n",
       "      <td>5</td>\n",
       "      <td>1</td>\n",
       "      <td>8</td>\n",
       "      <td>3.066667</td>\n",
       "      <td>-1.406087</td>\n",
       "      <td>29</td>\n",
       "    </tr>\n",
       "    <tr>\n",
       "      <th>1</th>\n",
       "      <td>12347.0</td>\n",
       "      <td>3</td>\n",
       "      <td>2</td>\n",
       "      <td>1323.32</td>\n",
       "      <td>Iceland</td>\n",
       "      <td>3598.21</td>\n",
       "      <td>6</td>\n",
       "      <td>0.666667</td>\n",
       "      <td>1.751176e+06</td>\n",
       "      <td>5</td>\n",
       "      <td>1</td>\n",
       "      <td>3</td>\n",
       "      <td>9</td>\n",
       "      <td>35.500000</td>\n",
       "      <td>18.638310</td>\n",
       "      <td>70</td>\n",
       "    </tr>\n",
       "    <tr>\n",
       "      <th>2</th>\n",
       "      <td>12348.0</td>\n",
       "      <td>74</td>\n",
       "      <td>1</td>\n",
       "      <td>222.16</td>\n",
       "      <td>Finland</td>\n",
       "      <td>1797.24</td>\n",
       "      <td>74</td>\n",
       "      <td>0.013514</td>\n",
       "      <td>4.935507e+04</td>\n",
       "      <td>2</td>\n",
       "      <td>1</td>\n",
       "      <td>1</td>\n",
       "      <td>4</td>\n",
       "      <td>20.000000</td>\n",
       "      <td>11.108000</td>\n",
       "      <td>20</td>\n",
       "    </tr>\n",
       "    <tr>\n",
       "      <th>3</th>\n",
       "      <td>12349.0</td>\n",
       "      <td>43</td>\n",
       "      <td>4</td>\n",
       "      <td>2646.99</td>\n",
       "      <td>Italy</td>\n",
       "      <td>1757.55</td>\n",
       "      <td>172</td>\n",
       "      <td>0.093023</td>\n",
       "      <td>7.006556e+06</td>\n",
       "      <td>3</td>\n",
       "      <td>3</td>\n",
       "      <td>4</td>\n",
       "      <td>10</td>\n",
       "      <td>26.750000</td>\n",
       "      <td>24.738224</td>\n",
       "      <td>92</td>\n",
       "    </tr>\n",
       "    <tr>\n",
       "      <th>4</th>\n",
       "      <td>12352.0</td>\n",
       "      <td>11</td>\n",
       "      <td>2</td>\n",
       "      <td>343.80</td>\n",
       "      <td>Norway</td>\n",
       "      <td>1545.41</td>\n",
       "      <td>22</td>\n",
       "      <td>0.181818</td>\n",
       "      <td>1.181984e+05</td>\n",
       "      <td>4</td>\n",
       "      <td>1</td>\n",
       "      <td>1</td>\n",
       "      <td>6</td>\n",
       "      <td>9.000000</td>\n",
       "      <td>19.100000</td>\n",
       "      <td>18</td>\n",
       "    </tr>\n",
       "  </tbody>\n",
       "</table>\n",
       "</div>"
      ],
      "text/plain": [
       "   Customer ID  Recency  Frequency  Monetary         Country  Future_Monetary  \\\n",
       "0      12346.0       67         15    -64.68  United Kingdom             0.00   \n",
       "1      12347.0        3          2   1323.32         Iceland          3598.21   \n",
       "2      12348.0       74          1    222.16         Finland          1797.24   \n",
       "3      12349.0       43          4   2646.99           Italy          1757.55   \n",
       "4      12352.0       11          2    343.80          Norway          1545.41   \n",
       "\n",
       "      a         b             c R_Score F_Score M_Score  RFM_Score  \\\n",
       "0  1005  0.223881  4.183502e+03       2       5       1          8   \n",
       "1     6  0.666667  1.751176e+06       5       1       3          9   \n",
       "2    74  0.013514  4.935507e+04       2       1       1          4   \n",
       "3   172  0.093023  7.006556e+06       3       3       4         10   \n",
       "4    22  0.181818  1.181984e+05       4       1       1          6   \n",
       "\n",
       "   AvgBasketSize  AvgSpending  UniqueProductsBought  \n",
       "0       3.066667    -1.406087                    29  \n",
       "1      35.500000    18.638310                    70  \n",
       "2      20.000000    11.108000                    20  \n",
       "3      26.750000    24.738224                    92  \n",
       "4       9.000000    19.100000                    18  "
      ]
     },
     "execution_count": 47,
     "metadata": {},
     "output_type": "execute_result"
    }
   ],
   "source": [
    "rfm.head()"
   ]
  },
  {
   "cell_type": "markdown",
   "id": "5de80465-00ac-47e3-b601-9cb695def129",
   "metadata": {},
   "source": [
    "<p>Visualizing the distribution of customer segments to understand the proportion of high, medium, and low value customers.</p>\n"
   ]
  },
  {
   "cell_type": "code",
   "execution_count": 48,
   "id": "ebac9696-ff62-4d50-b548-1d2abc904dc9",
   "metadata": {},
   "outputs": [
    {
     "data": {
      "text/html": [
       "<div>\n",
       "<style scoped>\n",
       "    .dataframe tbody tr th:only-of-type {\n",
       "        vertical-align: middle;\n",
       "    }\n",
       "\n",
       "    .dataframe tbody tr th {\n",
       "        vertical-align: top;\n",
       "    }\n",
       "\n",
       "    .dataframe thead th {\n",
       "        text-align: right;\n",
       "    }\n",
       "</style>\n",
       "<table border=\"1\" class=\"dataframe\">\n",
       "  <thead>\n",
       "    <tr style=\"text-align: right;\">\n",
       "      <th></th>\n",
       "      <th>Customer ID</th>\n",
       "      <th>Recency</th>\n",
       "      <th>Frequency</th>\n",
       "      <th>Monetary</th>\n",
       "      <th>Future_Monetary</th>\n",
       "      <th>a</th>\n",
       "      <th>b</th>\n",
       "      <th>c</th>\n",
       "      <th>R_Score</th>\n",
       "      <th>F_Score</th>\n",
       "      <th>...</th>\n",
       "      <th>Country_Poland</th>\n",
       "      <th>Country_Portugal</th>\n",
       "      <th>Country_Singapore</th>\n",
       "      <th>Country_Spain</th>\n",
       "      <th>Country_Sweden</th>\n",
       "      <th>Country_Switzerland</th>\n",
       "      <th>Country_USA</th>\n",
       "      <th>Country_United Arab Emirates</th>\n",
       "      <th>Country_United Kingdom</th>\n",
       "      <th>Country_Unspecified</th>\n",
       "    </tr>\n",
       "  </thead>\n",
       "  <tbody>\n",
       "    <tr>\n",
       "      <th>0</th>\n",
       "      <td>12346.0</td>\n",
       "      <td>67</td>\n",
       "      <td>15</td>\n",
       "      <td>-64.68</td>\n",
       "      <td>0.00</td>\n",
       "      <td>1005</td>\n",
       "      <td>0.223881</td>\n",
       "      <td>4.183502e+03</td>\n",
       "      <td>2</td>\n",
       "      <td>5</td>\n",
       "      <td>...</td>\n",
       "      <td>False</td>\n",
       "      <td>False</td>\n",
       "      <td>False</td>\n",
       "      <td>False</td>\n",
       "      <td>False</td>\n",
       "      <td>False</td>\n",
       "      <td>False</td>\n",
       "      <td>False</td>\n",
       "      <td>True</td>\n",
       "      <td>False</td>\n",
       "    </tr>\n",
       "    <tr>\n",
       "      <th>1</th>\n",
       "      <td>12347.0</td>\n",
       "      <td>3</td>\n",
       "      <td>2</td>\n",
       "      <td>1323.32</td>\n",
       "      <td>3598.21</td>\n",
       "      <td>6</td>\n",
       "      <td>0.666667</td>\n",
       "      <td>1.751176e+06</td>\n",
       "      <td>5</td>\n",
       "      <td>1</td>\n",
       "      <td>...</td>\n",
       "      <td>False</td>\n",
       "      <td>False</td>\n",
       "      <td>False</td>\n",
       "      <td>False</td>\n",
       "      <td>False</td>\n",
       "      <td>False</td>\n",
       "      <td>False</td>\n",
       "      <td>False</td>\n",
       "      <td>False</td>\n",
       "      <td>False</td>\n",
       "    </tr>\n",
       "    <tr>\n",
       "      <th>2</th>\n",
       "      <td>12348.0</td>\n",
       "      <td>74</td>\n",
       "      <td>1</td>\n",
       "      <td>222.16</td>\n",
       "      <td>1797.24</td>\n",
       "      <td>74</td>\n",
       "      <td>0.013514</td>\n",
       "      <td>4.935507e+04</td>\n",
       "      <td>2</td>\n",
       "      <td>1</td>\n",
       "      <td>...</td>\n",
       "      <td>False</td>\n",
       "      <td>False</td>\n",
       "      <td>False</td>\n",
       "      <td>False</td>\n",
       "      <td>False</td>\n",
       "      <td>False</td>\n",
       "      <td>False</td>\n",
       "      <td>False</td>\n",
       "      <td>False</td>\n",
       "      <td>False</td>\n",
       "    </tr>\n",
       "    <tr>\n",
       "      <th>3</th>\n",
       "      <td>12349.0</td>\n",
       "      <td>43</td>\n",
       "      <td>4</td>\n",
       "      <td>2646.99</td>\n",
       "      <td>1757.55</td>\n",
       "      <td>172</td>\n",
       "      <td>0.093023</td>\n",
       "      <td>7.006556e+06</td>\n",
       "      <td>3</td>\n",
       "      <td>3</td>\n",
       "      <td>...</td>\n",
       "      <td>False</td>\n",
       "      <td>False</td>\n",
       "      <td>False</td>\n",
       "      <td>False</td>\n",
       "      <td>False</td>\n",
       "      <td>False</td>\n",
       "      <td>False</td>\n",
       "      <td>False</td>\n",
       "      <td>False</td>\n",
       "      <td>False</td>\n",
       "    </tr>\n",
       "    <tr>\n",
       "      <th>4</th>\n",
       "      <td>12352.0</td>\n",
       "      <td>11</td>\n",
       "      <td>2</td>\n",
       "      <td>343.80</td>\n",
       "      <td>1545.41</td>\n",
       "      <td>22</td>\n",
       "      <td>0.181818</td>\n",
       "      <td>1.181984e+05</td>\n",
       "      <td>4</td>\n",
       "      <td>1</td>\n",
       "      <td>...</td>\n",
       "      <td>False</td>\n",
       "      <td>False</td>\n",
       "      <td>False</td>\n",
       "      <td>False</td>\n",
       "      <td>False</td>\n",
       "      <td>False</td>\n",
       "      <td>False</td>\n",
       "      <td>False</td>\n",
       "      <td>False</td>\n",
       "      <td>False</td>\n",
       "    </tr>\n",
       "  </tbody>\n",
       "</table>\n",
       "<p>5 rows × 43 columns</p>\n",
       "</div>"
      ],
      "text/plain": [
       "   Customer ID  Recency  Frequency  Monetary  Future_Monetary     a         b  \\\n",
       "0      12346.0       67         15    -64.68             0.00  1005  0.223881   \n",
       "1      12347.0        3          2   1323.32          3598.21     6  0.666667   \n",
       "2      12348.0       74          1    222.16          1797.24    74  0.013514   \n",
       "3      12349.0       43          4   2646.99          1757.55   172  0.093023   \n",
       "4      12352.0       11          2    343.80          1545.41    22  0.181818   \n",
       "\n",
       "              c R_Score F_Score  ... Country_Poland  Country_Portugal  \\\n",
       "0  4.183502e+03       2       5  ...          False             False   \n",
       "1  1.751176e+06       5       1  ...          False             False   \n",
       "2  4.935507e+04       2       1  ...          False             False   \n",
       "3  7.006556e+06       3       3  ...          False             False   \n",
       "4  1.181984e+05       4       1  ...          False             False   \n",
       "\n",
       "   Country_Singapore  Country_Spain  Country_Sweden  Country_Switzerland  \\\n",
       "0              False          False           False                False   \n",
       "1              False          False           False                False   \n",
       "2              False          False           False                False   \n",
       "3              False          False           False                False   \n",
       "4              False          False           False                False   \n",
       "\n",
       "   Country_USA  Country_United Arab Emirates  Country_United Kingdom  \\\n",
       "0        False                         False                    True   \n",
       "1        False                         False                   False   \n",
       "2        False                         False                   False   \n",
       "3        False                         False                   False   \n",
       "4        False                         False                   False   \n",
       "\n",
       "   Country_Unspecified  \n",
       "0                False  \n",
       "1                False  \n",
       "2                False  \n",
       "3                False  \n",
       "4                False  \n",
       "\n",
       "[5 rows x 43 columns]"
      ]
     },
     "execution_count": 48,
     "metadata": {},
     "output_type": "execute_result"
    }
   ],
   "source": [
    "rfm['Country'].unique()\n",
    "rfm_encoded = pd.get_dummies(rfm, columns=['Country'], drop_first=True)\n",
    "rfm_encoded.head()"
   ]
  },
  {
   "cell_type": "markdown",
   "id": "e9aab5b4-69f2-41d5-9ab8-561394b2c2b0",
   "metadata": {},
   "source": [
    "Country was one-hot encoded to convert the categorical variable into numeric features for modeling."
   ]
  },
  {
   "cell_type": "code",
   "execution_count": 49,
   "id": "7ffa106b-2c0e-4c02-a8b5-575ff7c0dd7a",
   "metadata": {},
   "outputs": [
    {
     "data": {
      "image/png": "[encoded data removed]",
      "text/plain": [
       "<Figure size 640x480 with 2 Axes>"
      ]
     },
     "metadata": {},
     "output_type": "display_data"
    }
   ],
   "source": [
    "plt.subplot(1,2,1)\n",
    "plt.scatter(rfm['Customer ID'],rfm['Monetary'])\n",
    "plt.subplot(1,2,2)\n",
    "plt.scatter(rfm['Customer ID'],rfm['Future_Monetary'])\n",
    "plt.show()"
   ]
  },
  {
   "cell_type": "code",
   "execution_count": 50,
   "id": "9252900d-e20d-462f-b3d6-7c327ec73b71",
   "metadata": {},
   "outputs": [
    {
     "data": {
      "text/plain": [
       "Customer ID                      float64\n",
       "Recency                            int64\n",
       "Frequency                          int64\n",
       "Monetary                         float64\n",
       "Future_Monetary                  float64\n",
       "a                                  int64\n",
       "b                                float64\n",
       "c                                float64\n",
       "R_Score                         category\n",
       "F_Score                         category\n",
       "M_Score                         category\n",
       "RFM_Score                          int64\n",
       "AvgBasketSize                    float64\n",
       "AvgSpending                      float64\n",
       "UniqueProductsBought               int64\n",
       "Country_Austria                    int32\n",
       "Country_Bahrain                    int32\n",
       "Country_Belgium                    int32\n",
       "Country_Channel Islands            int32\n",
       "Country_Cyprus                     int32\n",
       "Country_Denmark                    int32\n",
       "Country_EIRE                       int32\n",
       "Country_Finland                    int32\n",
       "Country_France                     int32\n",
       "Country_Germany                    int32\n",
       "Country_Greece                     int32\n",
       "Country_Iceland                    int32\n",
       "Country_Israel                     int32\n",
       "Country_Italy                      int32\n",
       "Country_Japan                      int32\n",
       "Country_Malta                      int32\n",
       "Country_Netherlands                int32\n",
       "Country_Norway                     int32\n",
       "Country_Poland                     int32\n",
       "Country_Portugal                   int32\n",
       "Country_Singapore                  int32\n",
       "Country_Spain                      int32\n",
       "Country_Sweden                     int32\n",
       "Country_Switzerland                int32\n",
       "Country_USA                        int32\n",
       "Country_United Arab Emirates       int32\n",
       "Country_United Kingdom             int32\n",
       "Country_Unspecified                int32\n",
       "dtype: object"
      ]
     },
     "execution_count": 50,
     "metadata": {},
     "output_type": "execute_result"
    }
   ],
   "source": [
    "for col in rfm_encoded.columns:\n",
    "    if rfm_encoded[col].dtype == 'bool' or rfm_encoded[col].dtype == 'object':\n",
    "        rfm_encoded[col] = rfm_encoded[col].astype(int)\n",
    "rfm_encoded.dtypes"
   ]
  },
  {
   "cell_type": "markdown",
   "id": "47e041fb-fc2c-43b5-a999-b4eb60d7d73b",
   "metadata": {},
   "source": [
    "<p></p>"
   ]
  },
  {
   "cell_type": "markdown",
   "id": "7466fd87-9203-44a6-b214-34f47ce46f40",
   "metadata": {},
   "source": [
    "<h2>Model Training and Evaluation</h2>"
   ]
  },
  {
   "cell_type": "markdown",
   "id": "0ed7df93-d323-471f-a687-308fa0021fd5",
   "metadata": {},
   "source": [
    "<p>In this section, we create two different sets of input features to compare how different combinations affect our prediction results.\n",
    "\n",
    "- X1: All available features, including Recency, Frequency, Monetary, Country (encoded), and RFM scores.\n",
    "- X2: A reduced feature set with only Recency and Monetary values, to test if fewer features perform better or worse.\n",
    "</p>"
   ]
  },
  {
   "cell_type": "code",
   "execution_count": 51,
   "id": "f2586695-b83b-4e5c-990f-2517da226172",
   "metadata": {},
   "outputs": [],
   "source": [
    "X1 = rfm[['Recency', 'Frequency', 'Monetary', 'RFM_Score','AvgBasketSize', 'AvgSpending', 'UniqueProductsBought']]\n",
    "y = rfm['Future_Monetary']"
   ]
  },
  {
   "cell_type": "code",
   "execution_count": 52,
   "id": "caab561a-5680-46f2-ad2b-7f18ad33a6c3",
   "metadata": {},
   "outputs": [],
   "source": [
    "X2 = rfm_encoded[['Recency','Monetary','Frequency']]"
   ]
  },
  {
   "cell_type": "code",
   "execution_count": 53,
   "id": "941256a5-ca55-473e-b06d-46c76a633ded",
   "metadata": {},
   "outputs": [
    {
     "data": {
      "text/plain": [
       "Index(['Customer ID', 'Recency', 'Frequency', 'Monetary', 'Country',\n",
       "       'Future_Monetary', 'a', 'b', 'c', 'R_Score', 'F_Score', 'M_Score',\n",
       "       'RFM_Score', 'AvgBasketSize', 'AvgSpending', 'UniqueProductsBought'],\n",
       "      dtype='object')"
      ]
     },
     "execution_count": 53,
     "metadata": {},
     "output_type": "execute_result"
    }
   ],
   "source": [
    "rfm.columns"
   ]
  },
  {
   "cell_type": "markdown",
   "id": "b215b2cb-c22c-4b33-95b3-d54f4a7c83c2",
   "metadata": {},
   "source": [
    "The below helper function eval() calculates key regression metrics to assess model performance:\n",
    "\n",
    "- MAE (Mean Absolute Error): Average of absolute errors between actual and predicted values.\n",
    "- RMSE (Root Mean Squared Error): Square root of average squared differences — more sensitive to large errors.\n",
    "- R² (R-squared): Proportion of variance explained by the model; higher is better.\n",
    "\n",
    "We return these in a dictionary for easy comparison across models."
   ]
  },
  {
   "cell_type": "code",
   "execution_count": 75,
   "id": "8464a484-1d9e-4abf-b27a-7cb385003fe2",
   "metadata": {},
   "outputs": [],
   "source": [
    "from sklearn.metrics import mean_absolute_error, mean_squared_error, r2_score, root_mean_squared_error\n",
    "\n",
    "def evaluate(y_test, preds):\n",
    "    mae = mean_absolute_error(y_test, preds)\n",
    "    rmse = root_mean_squared_error(y_test, preds)  \n",
    "    r2 = r2_score(y_test, preds)\n",
    "    return {'mae': mae, 'rmse': rmse, 'r2': r2}"
   ]
  },
  {
   "cell_type": "markdown",
   "id": "c9a21ac5-82df-49af-ba7b-c73868a46808",
   "metadata": {},
   "source": [
    "Below defined is a function to plot the graph for actual and predicted values comparison. I wrote a function to reuse the same logic again across multiple models"
   ]
  },
  {
   "cell_type": "code",
   "execution_count": 83,
   "id": "f88ffca7-e1db-4279-93dc-978204c341ab",
   "metadata": {},
   "outputs": [],
   "source": [
    "def visualize(y_test,preds):\n",
    "    plt.figure(figsize=(8, 6))\n",
    "    plt.scatter(y_test, preds, alpha=0.6)\n",
    "    plt.plot([y_test.min(), y_test.max()], [y_test.min(), y_test.max()], 'r--')\n",
    "    plt.xlabel('Actual')\n",
    "    plt.ylabel('Predicted')\n",
    "    plt.title('Actual vs Predicted')\n",
    "    plt.show()\n",
    "    return"
   ]
  },
  {
   "cell_type": "code",
   "execution_count": null,
   "id": "94466f32-eafc-4e10-95ef-06959a70c8ce",
   "metadata": {},
   "outputs": [],
   "source": [
    "from sklearn.model_selection import train_test_split\n",
    "from sklearn.linear_model import LinearRegression\n",
    "\n",
    "def linear_regression(X,y,graph=False):\n",
    "    X_train, X_test, y_train, y_test = train_test_split(X, y, test_size=0.2, random_state=2,shuffle=False)\n",
    "    model=LinearRegression()    \n",
    "    model.fit(X_train,y_train)\n",
    "    preds=model.predict(X_test)\n",
    "    if graph:\n",
    "        visualize(y_test,preds)\n",
    "    return evaluate(y_test,preds)"
   ]
  },
  {
   "cell_type": "code",
   "execution_count": null,
   "id": "58bbca25-7a3b-40a8-861e-b628ad880f1b",
   "metadata": {},
   "outputs": [],
   "source": [
    "from sklearn.ensemble import RandomForestRegressor\n",
    "\n",
    "def random_forest(X,y,trees=50,dep=5,graph=False):\n",
    "    X_train, X_test, y_train, y_test = train_test_split(X, y, test_size=0.2, random_state=3,shuffle=False)  \n",
    "    rf_model = RandomForestRegressor(\n",
    "        n_estimators=trees,\n",
    "        max_depth=dep,\n",
    "        random_state=2,  \n",
    "        min_samples_split=2,\n",
    "        max_features=None,\n",
    "    )\n",
    "    rf_model.fit(X_train, y_train)\n",
    "    rf_preds = rf_model.predict(X_test)\n",
    "    if graph:\n",
    "        visualize(y_test,rf_preds)\n",
    "    return evaluate(y_test, rf_preds)"
   ]
  },
  {
   "cell_type": "code",
   "execution_count": null,
   "id": "825f3c5e-ac91-49b1-a705-033933c40c28",
   "metadata": {},
   "outputs": [],
   "source": [
    "from xgboost import XGBRegressor\n",
    "\n",
    "def xgboost_regressor(X, y, estimators=50, depth=5, lr=0.1,graph=False):\n",
    "    X_train, X_test, y_train, y_test = train_test_split(\n",
    "        X, y, test_size=0.2, random_state=3,,shuffle=False\n",
    "    )\n",
    "    model_xg = XGBRegressor(\n",
    "        n_estimators=estimators,\n",
    "        max_depth=depth,\n",
    "        learning_rate=lr,\n",
    "        random_state=2\n",
    "    )\n",
    "    model_xg.fit(X_train, y_train)\n",
    "    preds_xg = model_xg.predict(X_test)\n",
    "    if graph:\n",
    "        visualize(y_test,preds_xg)\n",
    "    return evaluate(y_test,preds_xg)"
   ]
  },
  {
   "cell_type": "markdown",
   "id": "add22238-9e4c-480d-b15e-fb54d6cad16b",
   "metadata": {},
   "source": [
    "This section defines all the core functions used for modeling in this project:\n",
    "- linear_regression: Builds a simple Linear Regression model to understand linear relationships between features and the target.\n",
    "- random_forest: Fits a Random Forest Regressor, an ensemble of decision trees, useful for capturing non-linear patterns.\n",
    "- xgboost_regressor: Uses the XGBoost algorithm, a powerful gradient boosting method with configurable hyperparameters.\n",
    "\n",
    "These reusable functions make it easy to experiment with different feature sets, tune hyperparameters, and consistently measure how well the models perform.\n"
   ]
  },
  {
   "cell_type": "markdown",
   "id": "67cd842f-ae9a-47ae-808e-558827e0f91a",
   "metadata": {},
   "source": [
    "Trying different features for model training to find which gives the best metrics"
   ]
  },
  {
   "cell_type": "code",
   "execution_count": 63,
   "id": "c531d720-420f-4642-9c0b-aa6f3b690684",
   "metadata": {},
   "outputs": [
    {
     "name": "stdout",
     "output_type": "stream",
     "text": [
      "{'mae': 1502.7103839859135, 'rmse': 5238.33988741704, 'r2': 0.4804500897994305}\n"
     ]
    }
   ],
   "source": [
    "print(linear_regression(rfm[['Recency','Frequency','Monetary','R_Score', 'F_Score', 'M_Score','a','b','c']],y))"
   ]
  },
  {
   "cell_type": "code",
   "execution_count": 64,
   "id": "46a35590-c134-485a-85d0-eca6921b0cea",
   "metadata": {},
   "outputs": [
    {
     "name": "stdout",
     "output_type": "stream",
     "text": [
      "{'mae': 1326.9971253217943, 'rmse': 5166.507112480758, 'r2': 0.49460145270060474}\n"
     ]
    }
   ],
   "source": [
    "print(linear_regression(rfm[['Recency','Frequency','Monetary','c']],y))"
   ]
  },
  {
   "cell_type": "code",
   "execution_count": 65,
   "id": "a9bfb3d0-e0ec-4240-8b03-10f65764cd4d",
   "metadata": {},
   "outputs": [
    {
     "name": "stdout",
     "output_type": "stream",
     "text": [
      "{'mae': 1380.286163626968, 'rmse': 5366.914510716314, 'r2': 0.4546324654497239}\n"
     ]
    }
   ],
   "source": [
    "print(linear_regression(rfm[['Recency','Frequency','Monetary','a','b',]],y))"
   ]
  },
  {
   "cell_type": "code",
   "execution_count": 87,
   "id": "57871b30-2afa-42a6-a557-ee869e215aa8",
   "metadata": {},
   "outputs": [
    {
     "data": {
      "image/png": "[encoded data removed]",
      "text/plain": [
       "<Figure size 800x600 with 1 Axes>"
      ]
     },
     "metadata": {},
     "output_type": "display_data"
    },
    {
     "name": "stdout",
     "output_type": "stream",
     "text": [
      "{'mae': 1374.4016893543997, 'rmse': 5166.441606337988, 'r2': 0.49461426851554313}\n",
      "{'mae': 1530.5874709675281, 'rmse': 5236.7258003416155, 'r2': 0.48077021778447826}\n"
     ]
    }
   ],
   "source": [
    "print(linear_regression(rfm[['Recency','Frequency','Monetary','a','c']],y,graph=True))\n",
    "print(linear_regression(rfm[['Recency','Frequency','Monetary','c','b','M_Score']],y))"
   ]
  },
  {
   "cell_type": "code",
   "execution_count": 67,
   "id": "86c7306d-242f-435c-9545-f76e0c58a17a",
   "metadata": {},
   "outputs": [
    {
     "name": "stdout",
     "output_type": "stream",
     "text": [
      "{'mae': 1358.5564604649167, 'rmse': 5347.401099671654, 'r2': 0.4585910283870941}\n",
      "{'mae': 1320.5574764499274, 'rmse': 5330.966446153912, 'r2': 0.4619138371235133}\n",
      "{'mae': 1320.557476449928, 'rmse': 5330.9664461539105, 'r2': 0.46191383712351364}\n"
     ]
    }
   ],
   "source": [
    "print(linear_regression(X1,y))\n",
    "print(linear_regression(X2,y))\n",
    "print(linear_regression(rfm[['Recency','Frequency','Monetary']],y))"
   ]
  },
  {
   "cell_type": "code",
   "execution_count": 84,
   "id": "fe61cc33-f5b3-4ce9-8215-1d8603158885",
   "metadata": {},
   "outputs": [
    {
     "name": "stdout",
     "output_type": "stream",
     "text": [
      "{'mae': 1516.6838601126824, 'rmse': 7872.3386393041765, 'r2': 0.6204096047814218}\n"
     ]
    },
    {
     "data": {
      "image/png": "[encoded data removed]",
      "text/plain": [
       "<Figure size 800x600 with 1 Axes>"
      ]
     },
     "metadata": {},
     "output_type": "display_data"
    },
    {
     "name": "stdout",
     "output_type": "stream",
     "text": [
      "{'mae': 1491.3838460199117, 'rmse': 8278.62367801003, 'r2': 0.5802178550438939}\n"
     ]
    }
   ],
   "source": [
    "print(random_forest(rfm[['Recency','Frequency','Monetary','c']],y,150,5))\n",
    "print(random_forest(rfm[['Recency','Frequency','Monetary','c','b','M_Score']],y,graph=True))"
   ]
  },
  {
   "cell_type": "markdown",
   "id": "827e43a8-fef6-4417-a377-9a844eb4f91d",
   "metadata": {},
   "source": [
    "###  Actual vs Predicted Plot\n",
    "\n",
    "The scatter plot above compares the **actual CLV values** (x-axis) to the **model's predicted CLV values** (y-axis).\n",
    "\n",
    "- The **red dashed line** represents the ideal scenario where the predicted values exactly match the actual values (**y = x**).\n",
    "- Points on the line mean perfect predictions.\n",
    "- Points above the line indicate the model **overestimated** the CLV.\n",
    "- Points below the line indicate the model **underestimated** the CLV.\n",
    "\n",
    "This plot helps visualize how well the model is capturing the true spending behavior. Closer points to the line mean better predictive performance.\n"
   ]
  },
  {
   "cell_type": "code",
   "execution_count": null,
   "id": "f9ba94f2-9ca1-476e-9721-0843ce3b345b",
   "metadata": {},
   "outputs": [],
   "source": [
    "print(random_forest(X1,y,60,8))\n",
    "print(random_forest(X2,y,30,10))\n",
    "print(random_forest(rfm[['Recency','Frequency','Monetary','c']],y))"
   ]
  },
  {
   "cell_type": "code",
   "execution_count": null,
   "id": "2e2c00ac-6202-443b-b8d2-c4af44d7f2cf",
   "metadata": {},
   "outputs": [],
   "source": [
    "from sklearn.ensemble import RandomForestRegressor\n",
    "from sklearn.model_selection import RandomizedSearchCV\n",
    "\n",
    "# Define RF param grid\n",
    "param_dist = {\n",
    "    'n_estimators': [50,100, 150, 200],\n",
    "    'max_depth': [None, 5, 10],\n",
    "    'min_samples_split': [2, 5, 10],\n",
    "    # 'min_samples_leaf': [1, 2, 4],\n",
    "    'max_features': ['sqrt', 'log2', None]\n",
    "}\n",
    "\n",
    "rf = RandomForestRegressor(random_state=2)\n",
    "\n",
    "rand_search = RandomizedSearchCV(\n",
    "    rf,\n",
    "    param_distributions=param_dist,\n",
    "    n_iter=20,\n",
    "    cv=5,\n",
    "    scoring='r2',\n",
    "    random_state=2,\n",
    "    n_jobs=-1\n",
    ")\n",
    "X=rfm[['Recency','Frequency','Monetary','c']]\n",
    "X_train,X_test,y_train,y_test=train_test_split(X,y,test_size=0.2,random_state=3,shuffle=False)\n",
    "rand_search.fit(X_train, y_train)\n",
    "\n",
    "print(\"Best RF Params:\", rand_search.best_params_)\n",
    "print(\"Best RF R2:\", rand_search.best_score_)\n",
    "\n",
    "best_rf = rand_search.best_estimator_\n",
    "\n",
    "preds = rand_search.predict(X_test)\n",
    "print(eval(y_test, preds))"
   ]
  },
  {
   "cell_type": "code",
   "execution_count": 86,
   "id": "cd9e1896-020f-4b24-ac1b-0024cdfe38a4",
   "metadata": {},
   "outputs": [
    {
     "name": "stdout",
     "output_type": "stream",
     "text": [
      "{'mae': 1953.4859283263493, 'rmse': 11131.067912801178, 'r2': 0.24110560595847896}\n"
     ]
    },
    {
     "data": {
      "image/png": "[encoded data removed]",
      "text/plain": [
       "<Figure size 800x600 with 1 Axes>"
      ]
     },
     "metadata": {},
     "output_type": "display_data"
    },
    {
     "name": "stdout",
     "output_type": "stream",
     "text": [
      "{'mae': 1653.3267938655658, 'rmse': 10303.510521411767, 'r2': 0.34975335877210656}\n"
     ]
    }
   ],
   "source": [
    "print(xgboost_regressor(X1,y,150,10,0.08))\n",
    "print(xgboost_regressor(rfm[['Recency','Frequency','Monetary','a','b','c']],y,graph=True))"
   ]
  },
  {
   "cell_type": "markdown",
   "id": "8bf7293e-d9e0-4325-a338-23408ec4c8e6",
   "metadata": {},
   "source": [
    "\n",
    "In this section, I experimented extensively with different feature combinations and additional derived features to improve model performance.\n",
    "\n",
    "<li>I created new features (a, b, c) to capture potential interactions or non-linear effects between Recency, Frequency, and Monetary values.\n",
    "\n",
    "<li>Multiple sets of features were tested with Linear Regression, Random Forest, and XGBoost, including adding or dropping RFM scores, custom ratios, and squares.\n",
    "\n",
    "<li>Despite these transformations, the Random Forest provided the highest R² scores and the most stable results compared to other models.\n",
    "\n",
    "<li>Linear Regression showed moderate performance but could not capture complex patterns beyond linear relationships.\n",
    "\n",
    "<li>XGBoost performed worst for this dataset, even after tuning and custom feature engineering.</li>\n",
    "<br>\n",
    "\n",
    "This demonstrates that for this problem, simple non-linear models like Random Forest are more suitable than linear models or gradient boosting, given the data structure and available features."
   ]
  },
  {
   "cell_type": "code",
   "execution_count": null,
   "id": "cbab8959-0c58-4d00-83a4-d845803b3ab9",
   "metadata": {},
   "outputs": [],
   "source": [
    "from sklearn.model_selection import RandomizedSearchCV\n",
    "from xgboost import XGBRegressor\n",
    "\n",
    "param_dist = {\n",
    "    'n_estimators': [100, 150, 200, 300, 500],\n",
    "    'max_depth': [7, 10, 15, 20 , 25, 30],\n",
    "    'learning_rate': [0.03, 0.05, 0.1, 0.2],\n",
    "    'subsample': [0.6, 0.8, 1.0],\n",
    "    'colsample_bytree': [0.6, 0.8, 1.0],\n",
    "    'gamma': [0, 1, 5]\n",
    "}\n",
    "\n",
    "\n",
    "xgb = XGBRegressor(random_state=2)\n",
    "\n",
    "\n",
    "rand_search = RandomizedSearchCV(\n",
    "    estimator=xgb,\n",
    "    param_distributions=param_dist,\n",
    "    n_iter=30,                \n",
    "    scoring='neg_mean_squared_error',\n",
    "    cv=3,\n",
    "    verbose=1,\n",
    "    random_state=2,\n",
    "    n_jobs=-1\n",
    ")\n",
    "\n",
    "\n",
    "X_train, X_test, y_train, y_test = train_test_split(\n",
    "   X2 , y, test_size=0.2, random_state=2,shuffle=False\n",
    ")\n",
    "rand_search.fit(X_train, y_train)\n",
    "\n",
    "print(\"Best Parameters:\", rand_search.best_params_)\n",
    "\n",
    "preds = rand_search.predict(X_test)\n",
    "print(eval(y_test, preds))"
   ]
  },
  {
   "cell_type": "code",
   "execution_count": null,
   "id": "848ac01f-13f6-42b6-968a-6c042bac987a",
   "metadata": {},
   "outputs": [],
   "source": [
    "from sklearn.neural_network import MLPRegressor\n",
    "\n",
    "mlp = MLPRegressor(\n",
    "    hidden_layer_sizes=(200,150,100, 50,25),  \n",
    "    activation='relu',             \n",
    "    solver='adam',                 \n",
    "    max_iter=2000,                 \n",
    "    random_state=2\n",
    ")\n",
    "X_train, X_test, y_train, y_test = train_test_split(\n",
    "        X1, y, test_size=0.2, random_state=2,shuffle=False)\n",
    "mlp.fit(X_train, y_train)\n",
    "preds = mlp.predict(X_test)\n",
    "\n",
    "print(eval(y_test, preds))"
   ]
  },
  {
   "cell_type": "markdown",
   "id": "c42c6a6b-3c72-4cfe-a813-5522d90988ef",
   "metadata": {},
   "source": [
    "To explore non-linear relationships in the data, I tested `MLPRegressor` from `sklearn.neural_network`.\n",
    "\n",
    "- Used basic feed-forward layers.\n",
    "- Tuned `hidden_layer_sizes`, `activation` functions, and `solver`.\n",
    "- Monitored training convergence and overfitting.\n",
    "\n",
    "However, the neural network did not significantly improve the R² over the best tree-based models.\n",
    "This confirms that for this dataset, ensemble tree models (Random Forest) handle the patterns more effectively than a basic neural net."
   ]
  },
  {
   "cell_type": "code",
   "execution_count": null,
   "id": "a5ed11c8-93c5-46bb-8587-55b17ee63498",
   "metadata": {},
   "outputs": [],
   "source": [
    "from catboost import CatBoostRegressor\n",
    "\n",
    "X = rfm_encoded.drop(['Future_Monetary'], axis=1)\n",
    "y = rfm_encoded['Future_Monetary']\n",
    "\n",
    "X_train, X_test, y_train, y_test = train_test_split(\n",
    "    X, y, test_size=0.2, random_state=2,,shuffle=False\n",
    ")\n",
    "\n",
    "categorical_features = ['R_Score','F_Score','M_Score']\n",
    "\n",
    "catboost_model = CatBoostRegressor(\n",
    "    iterations=400,\n",
    "    depth=6,\n",
    "    learning_rate=0.05,\n",
    "    random_seed=3,\n",
    "    verbose=100\n",
    ")\n",
    "\n",
    "catboost_model.fit(\n",
    "    X_train, y_train,\n",
    "    cat_features=categorical_features,\n",
    "    eval_set=(X_test, y_test)\n",
    ")\n",
    "\n",
    "preds = catboost_model.predict(X_test)\n",
    "print(eval(y_test, preds))"
   ]
  },
  {
   "cell_type": "markdown",
   "id": "32fd4e2e-3a67-4762-9aa2-5c9595eefb94",
   "metadata": {},
   "source": [
    "<h4>Bagging different models</h4>"
   ]
  },
  {
   "cell_type": "code",
   "execution_count": null,
   "id": "eaef4a00-5e76-446b-a3ba-e42e352d7732",
   "metadata": {},
   "outputs": [],
   "source": [
    "X = rfm_encoded.drop(['Future_Monetary','R_Score','F_Score','M_Score'],axis=1\n",
    "                    )\n",
    "y = rfm_encoded['Future_Monetary']\n",
    "\n",
    "X_train, X_test, y_train, y_test = train_test_split(X, y, test_size=0.2, random_state=2,,shuffle=False)\n",
    "\n",
    "# Linear\n",
    "lr = LinearRegression()\n",
    "lr.fit(X_train, y_train)\n",
    "lr_preds = lr.predict(X_test)\n",
    "\n",
    "# Random Forest\n",
    "rf = RandomForestRegressor(n_estimators=150, max_depth=5, random_state=2)\n",
    "rf.fit(X_train, y_train)\n",
    "rf_preds = rf.predict(X_test)\n",
    "\n",
    "# CatBoost\n",
    "cat = CatBoostRegressor(iterations=400,depth=6,learning_rate=0.05,random_seed=2,verbose=100)\n",
    "cat.fit(X_train, y_train)\n",
    "cat_preds = cat.predict(X_test)"
   ]
  },
  {
   "cell_type": "code",
   "execution_count": null,
   "id": "e0b90b7e-c9e7-4c2d-84a3-c71d097c8f07",
   "metadata": {},
   "outputs": [],
   "source": [
    "ensemble_preds = (\n",
    "    0.5 * rf_preds + \n",
    "    0.4 * lr_preds + \n",
    "    0.1 * cat_preds \n",
    ")\n",
    "print(eval(y_test, ensemble_preds))"
   ]
  },
  {
   "cell_type": "markdown",
   "id": "f6c44a76-cc64-4983-9f1b-20ef7de6d13b",
   "metadata": {},
   "source": [
    "<h4>Testing best R^2 from the models contributing to bagging</h4>"
   ]
  },
  {
   "cell_type": "code",
   "execution_count": null,
   "id": "d90219d0-bebb-4fc5-b43c-703c886e4eea",
   "metadata": {},
   "outputs": [],
   "source": [
    "best_r2 = -999\n",
    "best_weights = None\n",
    "\n",
    "for w_rf in np.arange(0.5, 0.9, 0.05):  \n",
    "    for w_lr in np.arange(0, 0.3, 0.05):\n",
    "        for w_cat in np.arange(0, 0.3, 0.05):\n",
    "                total = w_rf + w_lr + w_cat \n",
    "                if np.isclose(total, 1.0):\n",
    "                    ensemble_preds = (\n",
    "                        w_rf * rf_preds +\n",
    "                        w_lr * lr_preds +\n",
    "                        w_cat * cat_preds \n",
    "                    )\n",
    "                    r2 = eval(y_test, ensemble_preds)['r2']\n",
    "                    if r2 > best_r2:\n",
    "                        best_r2 = r2\n",
    "                        best_weights = (w_rf, w_lr, w_cat)\n",
    "\n",
    "print(f\"Best R2: {best_r2:.4f} with weights RF: {best_weights[0]}, LR: {best_weights[1]}, Cat: {best_weights[2]}\")"
   ]
  },
  {
   "cell_type": "markdown",
   "id": "a7e7de8a-e7fa-448a-82a6-a4b2366e3e11",
   "metadata": {},
   "source": [
    "<h4>Stacking models</h4>"
   ]
  },
  {
   "cell_type": "code",
   "execution_count": null,
   "id": "19ae2d9e-0417-4f17-a239-d844f52b211e",
   "metadata": {},
   "outputs": [],
   "source": [
    "from sklearn.ensemble import StackingRegressor\n",
    "\n",
    "base_learners = [\n",
    "    ('rf', RandomForestRegressor(\n",
    "        n_estimators=150, max_depth=5, random_state=2)),\n",
    "    ('lr', LinearRegression()),\n",
    "    ('cat', CatBoostRegressor(\n",
    "        iterations=400,depth=6,learning_rate=0.05,random_seed=2,verbose=100))\n",
    "]\n",
    "\n",
    "meta_learner =  LinearRegression()\n",
    "stacked_model = StackingRegressor(\n",
    "    estimators=base_learners,\n",
    "    final_estimator=meta_learner,\n",
    "    cv=5,\n",
    ")\n",
    "\n",
    "X = rfm[['Recency','Frequency','Monetary','a','b','c']]\n",
    "y = rfm['Future_Monetary']\n",
    "\n",
    "X_train, X_test, y_train, y_test = train_test_split(X, y, test_size=0.2, random_state=2)\n",
    "stacked_model.fit(X_train, y_train)\n",
    "stacked_preds = stacked_model.predict(X_test)\n",
    "\n",
    "print(eval(y_test, stacked_preds))"
   ]
  },
  {
   "cell_type": "markdown",
   "id": "2266e674-b464-4493-931d-07fd289d1ae0",
   "metadata": {},
   "source": [
    "<h2>Conclusion</h2>\n",
    "<br>\n",
    "<li> After extensive feature engineering, testing, and hyperparameter tuning, the Random Forest Regressor consistently delivered the best performance, achieving an R² of ~0.59–0.63 on held-out test data.\n",
    "<li> All other models and ensemble techniques performed worse than Random Forest for this dataset and problem.\n",
    "<li> Additional features like average basket size, average spending, and unique products bought added some predictive power but only marginally improved the score.\n",
    "<li> This suggests the available transaction-level data captures useful signals, but <b>further improvement may require additional customer realted data like behavioral or demographic data, time-based features, or more advanced time-series modeling.</b>\n",
    "    <li> This project demonstrates CLV prediction, combining data cleaning, feature engineering, testing multiple models, and interpreting results.</li>"
   ]
  }
 ],
 "metadata": {
  "kernelspec": {
   "display_name": "Shradha's Numpy 2.0 Env",
   "language": "python",
   "name": "shraddha_lab"
  },
  "language_info": {
   "codemirror_mode": {
    "name": "ipython",
    "version": 3
   },
   "file_extension": ".py",
   "mimetype": "text/x-python",
   "name": "python",
   "nbconvert_exporter": "python",
   "pygments_lexer": "ipython3",
   "version": "3.12.2"
  }
 },
 "nbformat": 4,
 "nbformat_minor": 5
}
